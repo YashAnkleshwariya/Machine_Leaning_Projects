{
 "cells": [
  {
   "cell_type": "markdown",
   "metadata": {
    "id": "lFwktUA6a7zH"
   },
   "source": [
    "# Code 8\n",
    "- Random Forest\n",
    "- Hyperparameter Optimization\n",
    "- GridsearchCV\n",
    "- Best Features"
   ]
  },
  {
   "cell_type": "markdown",
   "metadata": {
    "id": "9DXfa773a7zZ"
   },
   "source": [
    "## 1/ Import Libraries"
   ]
  },
  {
   "cell_type": "code",
   "execution_count": 1,
   "metadata": {
    "colab": {
     "base_uri": "https://localhost:8080/"
    },
    "executionInfo": {
     "elapsed": 18192,
     "status": "ok",
     "timestamp": 1619087032047,
     "user": {
      "displayName": "Data Science Master Minds",
      "photoUrl": "",
      "userId": "13790691282857793894"
     },
     "user_tz": -330
    },
    "id": "s7o2t9blWo-b",
    "outputId": "1cb7b566-eac5-432e-a68f-87efde74a58c"
   },
   "outputs": [],
   "source": [
    "#CodeSection1\n",
    "#from google.colab import drive\n",
    "#drive.mount('/mntDrive') "
   ]
  },
  {
   "cell_type": "code",
   "execution_count": 2,
   "metadata": {
    "id": "n8yqRIuha7zn"
   },
   "outputs": [],
   "source": [
    "#CodeSection2\n",
    "import pandas as pd\n",
    "import numpy as np"
   ]
  },
  {
   "cell_type": "markdown",
   "metadata": {
    "id": "wRz6crvoa7zo"
   },
   "source": [
    "## 2/ Import Data"
   ]
  },
  {
   "cell_type": "code",
   "execution_count": 3,
   "metadata": {
    "id": "3u-V5dA4a7zp"
   },
   "outputs": [],
   "source": [
    "#CodeSection3\n",
    "train = pd.read_csv('C:/Users/admin/OneDrive/Documents/Data Sciesnce Repository/Machine_Leaning_Projects/Loan Prediction/input/train.csv')\n",
    "test = pd.read_csv('C:/Users/admin/OneDrive/Documents/Data Sciesnce Repository/Machine_Leaning_Projects/Loan Prediction/input/train.csv')"
   ]
  },
  {
   "cell_type": "markdown",
   "metadata": {
    "id": "H-DzUbbIOCdH"
   },
   "source": [
    "## 3/ Skipping Few Steps to simplify"
   ]
  },
  {
   "cell_type": "markdown",
   "metadata": {
    "id": "I5pEcQeA-g8O"
   },
   "source": [
    "## 4/ Preprocessing Improvement"
   ]
  },
  {
   "cell_type": "markdown",
   "metadata": {
    "id": "am7cBDhea70L"
   },
   "source": [
    "### 4.1/ Identify Numerical and Categorical Features"
   ]
  },
  {
   "cell_type": "code",
   "execution_count": 4,
   "metadata": {
    "id": "HyWOSnV8a70M"
   },
   "outputs": [],
   "source": [
    "#CodeSection4\n",
    "# Identify all Numerical and Categorical features\n",
    "numerical_features = ['ApplicantIncome', 'CoapplicantIncome', 'LoanAmount', 'Loan_Amount_Term', 'Credit_History']\n",
    "categorical_features = ['Gender', 'Married', 'Dependents', 'Education', 'Self_Employed', 'Property_Area']"
   ]
  },
  {
   "cell_type": "markdown",
   "metadata": {
    "id": "RbXNGRsG0SPc"
   },
   "source": [
    "### 4.2/ Outlier Strategy"
   ]
  },
  {
   "cell_type": "code",
   "execution_count": 5,
   "metadata": {
    "id": "Yq5wHuyv0Z8C"
   },
   "outputs": [],
   "source": [
    "#CodeSection5\n",
    "\n",
    "# Write a loop to do the same\n",
    "for num_var in numerical_features:\n",
    "  Q1 = train[num_var].quantile(0.25)\n",
    "  Q3 = train[num_var].quantile(0.75)\n",
    "\n",
    "  IQR = Q3-Q1\n",
    "\n",
    "  Lower_Whisker = Q1 - 1.5*IQR\n",
    "  Upper_Whisker = Q3 + 1.5*IQR\n",
    "\n",
    "  train[num_var] = train[num_var].apply(lambda x : Upper_Whisker if x >= Upper_Whisker else x)\n",
    "  test[num_var] = test[num_var].apply(lambda x : Upper_Whisker if x >= Upper_Whisker else x)"
   ]
  },
  {
   "cell_type": "markdown",
   "metadata": {
    "id": "xeAnDRX-0sdl"
   },
   "source": [
    "### 4.3/ Import Libraries\n",
    "- Missing Value Imputation - SimpleImputer\n",
    "- Preprocessing - StandardScaler, OrdinalEncoder\n",
    "- Pipeline - make_pipeline, make_column_transformer\n",
    "- Model - Decision Tree"
   ]
  },
  {
   "cell_type": "code",
   "execution_count": 6,
   "metadata": {
    "id": "X_NG_Fhb-5JX"
   },
   "outputs": [],
   "source": [
    "#CodeSection6\n",
    "\n",
    "# Import SimpleImputer\n",
    "from sklearn.impute import SimpleImputer\n",
    "\n",
    "# Import StandardScaler\n",
    "from sklearn.preprocessing import StandardScaler, OrdinalEncoder\n",
    "\n",
    "# Make and Compose Pipeline\n",
    "from sklearn.pipeline import make_pipeline\n",
    "from sklearn.compose import make_column_transformer\n",
    "\n",
    "# Import Random Forest\n",
    "from sklearn.ensemble import RandomForestClassifier"
   ]
  },
  {
   "cell_type": "markdown",
   "metadata": {
    "id": "hANg0WIUYlXm"
   },
   "source": [
    "### 4.4/ Build Pipeline"
   ]
  },
  {
   "cell_type": "code",
   "execution_count": 7,
   "metadata": {
    "id": "OqUk7M7TUjmP"
   },
   "outputs": [],
   "source": [
    "#CodeSection7\n",
    "# Create Preprocessor Pipeline\n",
    "preprocessor = make_column_transformer(\n",
    "    \n",
    "    (make_pipeline(\n",
    "    SimpleImputer(strategy = 'median'), \n",
    "    StandardScaler()), numerical_features),\n",
    "    \n",
    "    (make_pipeline(\n",
    "    SimpleImputer(strategy = 'most_frequent'),\n",
    "    OrdinalEncoder(categories = 'auto')), categorical_features),\n",
    ")"
   ]
  },
  {
   "cell_type": "markdown",
   "metadata": {
    "id": "n1jlzGqWX0zZ"
   },
   "source": [
    "### 4.5/ Divide Data into X and y"
   ]
  },
  {
   "cell_type": "code",
   "execution_count": 8,
   "metadata": {
    "id": "amrg4_FvUfC2"
   },
   "outputs": [],
   "source": [
    "#CodeSection8\n",
    "X = train.drop(['Loan_Status','Loan_ID'], axis =  1)\n",
    "y = train['Loan_Status']"
   ]
  },
  {
   "cell_type": "markdown",
   "metadata": {
    "id": "VXoWPc9d2XnS"
   },
   "source": [
    "### 4.6/ Create Train and Validation Data"
   ]
  },
  {
   "cell_type": "code",
   "execution_count": 9,
   "metadata": {
    "id": "RmD4bY-x2FqT"
   },
   "outputs": [],
   "source": [
    "#CodeSection9\n",
    "from sklearn.model_selection import train_test_split\n",
    "X_train, X_val, y_train, y_val = train_test_split(X,y, test_size = 0.2, random_state = 5) # also see stratify"
   ]
  },
  {
   "cell_type": "markdown",
   "metadata": {
    "id": "vXQBoyz6YsQr"
   },
   "source": [
    "## 5/ Build Model and Fit"
   ]
  },
  {
   "cell_type": "code",
   "execution_count": 10,
   "metadata": {
    "id": "-2jVgmtT6OKc"
   },
   "outputs": [],
   "source": [
    "#CodeSection10\n",
    "# Create Parameter Grid\n",
    "parameter = {'randomforestclassifier__n_estimators' : (23, 24, 25, 26, 27, 28),\n",
    "             'randomforestclassifier__max_depth' : (2,3,4,5,6,7,8,9,10),\n",
    "             'randomforestclassifier__criterion' : ('gini', 'entropy'),\n",
    "             'randomforestclassifier__max_features' : ('auto', 'sqrt', 'log2')\n",
    "\n",
    "}\n",
    "#(23, 24, 25, 26, 27, 28)\n",
    "#(2,3,4,5,6,7,8,9,10)\n",
    "#('gini', 'entropy')\n",
    "#('auto', 'sqrt', 'log2')"
   ]
  },
  {
   "cell_type": "code",
   "execution_count": 11,
   "metadata": {
    "id": "Gr9rlXuhWVu0"
   },
   "outputs": [],
   "source": [
    "#CodeSection11\n",
    "# Create Model Pipeline and Initiate Model\n",
    "# Change max_depth to find which one gives the best accuracy\n",
    "model = make_pipeline(preprocessor, RandomForestClassifier())"
   ]
  },
  {
   "cell_type": "code",
   "execution_count": 12,
   "metadata": {
    "id": "mH8xpvQVXJhH"
   },
   "outputs": [],
   "source": [
    "#CodeSection12\n",
    "# Instead of Fit we so Grid Search (also Random Grid Search)\n",
    "from sklearn.model_selection import GridSearchCV \n",
    "model_search = GridSearchCV(model, param_grid = parameter, verbose = True)"
   ]
  },
  {
   "cell_type": "code",
   "execution_count": null,
   "metadata": {
    "colab": {
     "base_uri": "https://localhost:8080/"
    },
    "executionInfo": {
     "elapsed": 95672,
     "status": "ok",
     "timestamp": 1619088572748,
     "user": {
      "displayName": "Data Science Master Minds",
      "photoUrl": "",
      "userId": "13790691282857793894"
     },
     "user_tz": -330
    },
    "id": "1ZZqRJ0t_xYr",
    "outputId": "fcfe2da2-bc73-4e4e-c9d4-0ee6e89c5fd9"
   },
   "outputs": [
    {
     "name": "stdout",
     "output_type": "stream",
     "text": [
      "Fitting 5 folds for each of 324 candidates, totalling 1620 fits\n"
     ]
    }
   ],
   "source": [
    "#CodeSection13\n",
    "# Fit Gridsearch\n",
    "model_search.fit(X_train,y_train)"
   ]
  },
  {
   "cell_type": "code",
   "execution_count": null,
   "metadata": {
    "colab": {
     "base_uri": "https://localhost:8080/"
    },
    "executionInfo": {
     "elapsed": 93366,
     "status": "ok",
     "timestamp": 1619088572749,
     "user": {
      "displayName": "Data Science Master Minds",
      "photoUrl": "",
      "userId": "13790691282857793894"
     },
     "user_tz": -330
    },
    "id": "2d1x1X_JCT8J",
    "outputId": "a6056825-9f2e-4df1-c806-bbd1b42932b2"
   },
   "outputs": [],
   "source": [
    "#CodeSection14\n",
    "# Get best estimator from the Girdsearch\n",
    "model_search.best_estimator_.named_steps.randomforestclassifier"
   ]
  },
  {
   "cell_type": "markdown",
   "metadata": {
    "id": "sreeouPFI5Bf"
   },
   "source": [
    "## 6/ Check Best Features"
   ]
  },
  {
   "cell_type": "code",
   "execution_count": null,
   "metadata": {
    "colab": {
     "base_uri": "https://localhost:8080/"
    },
    "executionInfo": {
     "elapsed": 91826,
     "status": "ok",
     "timestamp": 1619088572750,
     "user": {
      "displayName": "Data Science Master Minds",
      "photoUrl": "",
      "userId": "13790691282857793894"
     },
     "user_tz": -330
    },
    "id": "SIyhVT6xI-Us",
    "outputId": "f87b16b3-6354-44f5-83de-78a2e0de293d"
   },
   "outputs": [],
   "source": [
    "#CodeSection15\n",
    "# Get Feature Importance Score\n",
    "feat_imp = model_search.best_estimator_.named_steps.randomforestclassifier.feature_importances_\n",
    "feat_imp"
   ]
  },
  {
   "cell_type": "code",
   "execution_count": null,
   "metadata": {
    "id": "KmCYrh8LJEPt"
   },
   "outputs": [],
   "source": [
    "#CodeSection16\n",
    "# Convert to Series with Feature Names\n",
    "imp_feat=pd.Series(feat_imp,index=X_train.columns.tolist())"
   ]
  },
  {
   "cell_type": "code",
   "execution_count": null,
   "metadata": {
    "colab": {
     "base_uri": "https://localhost:8080/"
    },
    "executionInfo": {
     "elapsed": 89642,
     "status": "ok",
     "timestamp": 1619088572752,
     "user": {
      "displayName": "Data Science Master Minds",
      "photoUrl": "",
      "userId": "13790691282857793894"
     },
     "user_tz": -330
    },
    "id": "P3__cUMFJ6Rl",
    "outputId": "05b00711-5c8f-4fa0-9ca2-1545b557e83b"
   },
   "outputs": [],
   "source": [
    "#CodeSection17\n",
    "# List Feature Importance\n",
    "imp_feat.sort_values(ascending=False) # You also plot the same"
   ]
  },
  {
   "cell_type": "markdown",
   "metadata": {
    "id": "Omv4nWgwa70Z"
   },
   "source": [
    "## 6/ Check Accuracy of Model on Train Data"
   ]
  },
  {
   "cell_type": "code",
   "execution_count": null,
   "metadata": {
    "id": "PQi2u6uQa70Z"
   },
   "outputs": [],
   "source": [
    "#CodeSection18\n",
    "# Predict on Train Data\n",
    "y_train_pred = model_search.predict(X_train)\n",
    "y_val_pred = model_search.predict(X_val)"
   ]
  },
  {
   "cell_type": "markdown",
   "metadata": {
    "id": "AqPB9qLLa70a"
   },
   "source": [
    "### We can use a Accuracy Function from Metrics\n",
    "- Check Train Accuracy"
   ]
  },
  {
   "cell_type": "code",
   "execution_count": null,
   "metadata": {
    "id": "L8VJNsHIa70a"
   },
   "outputs": [],
   "source": [
    "#CodeSection19\n",
    "# Import metrics library\n",
    "from sklearn.metrics import accuracy_score"
   ]
  },
  {
   "cell_type": "code",
   "execution_count": null,
   "metadata": {
    "colab": {
     "base_uri": "https://localhost:8080/"
    },
    "executionInfo": {
     "elapsed": 86596,
     "status": "ok",
     "timestamp": 1619088572754,
     "user": {
      "displayName": "Data Science Master Minds",
      "photoUrl": "",
      "userId": "13790691282857793894"
     },
     "user_tz": -330
    },
    "id": "p7llEg7aa70b",
    "outputId": "3e9a31f4-461f-433b-9e11-37f74e3046b1"
   },
   "outputs": [],
   "source": [
    "#CodeSection20\n",
    "# Print Train Accuracy\n",
    "print(f\" Train Accuracy : {accuracy_score(y_train, y_train_pred):0.1%}\")\n",
    "print(f\" Validation Accuracy : {accuracy_score(y_val, y_val_pred):0.1%}\")"
   ]
  },
  {
   "cell_type": "markdown",
   "metadata": {
    "id": "QIMZgLEWa70b"
   },
   "source": [
    "## 7/ Predict and Submission"
   ]
  },
  {
   "cell_type": "markdown",
   "metadata": {
    "id": "BwZubGmra70b"
   },
   "source": [
    "### Predict on \"Test Data\""
   ]
  },
  {
   "cell_type": "code",
   "execution_count": null,
   "metadata": {
    "id": "7qnE4K9Ca70c"
   },
   "outputs": [],
   "source": [
    "#CodeSection21\n",
    "# Get all the X Variables from the Test Dataset\n",
    "X_test = test.drop(['Loan_ID'], axis =  1)\n",
    "\n",
    "# Predict on X_test Data (\"X_test_prep\")\n",
    "X_test_prep = model_search.predict(X_test)"
   ]
  },
  {
   "cell_type": "markdown",
   "metadata": {
    "id": "SClle2xqa70e"
   },
   "source": [
    "### Create Submission File"
   ]
  },
  {
   "cell_type": "code",
   "execution_count": null,
   "metadata": {
    "id": "LgdlFL46a70f"
   },
   "outputs": [],
   "source": [
    "#CodeSection22\n",
    "submission = pd.DataFrame({\n",
    "    'Loan_ID' : test['Loan_ID'],\n",
    "    'Loan_Status' : X_test_prep\n",
    "})"
   ]
  },
  {
   "cell_type": "markdown",
   "metadata": {
    "id": "MAZ0TP21a70g"
   },
   "source": [
    "### Export Submission File"
   ]
  },
  {
   "cell_type": "code",
   "execution_count": null,
   "metadata": {
    "id": "AnfbYZoKa70g"
   },
   "outputs": [],
   "source": [
    "#CodeSection23\n",
    "submission.to_csv('C:/Users/admin/OneDrive/Documents/Data Sciesnce Repository/Machine_Leaning_Projects/Loan Prediction/output/O8_RF_Best_Features.csv', index = False)"
   ]
  },
  {
   "cell_type": "code",
   "execution_count": null,
   "metadata": {
    "id": "n13R8vTfa70g"
   },
   "outputs": [],
   "source": [
    "# LB Accuracy : 0.7777"
   ]
  }
 ],
 "metadata": {
  "colab": {
   "collapsed_sections": [],
   "name": "InClass Working Code 8 - Random Forest Important Features.ipynb",
   "provenance": [],
   "toc_visible": true
  },
  "kernelspec": {
   "display_name": "Python 3 (ipykernel)",
   "language": "python",
   "name": "python3"
  },
  "language_info": {
   "codemirror_mode": {
    "name": "ipython",
    "version": 3
   },
   "file_extension": ".py",
   "mimetype": "text/x-python",
   "name": "python",
   "nbconvert_exporter": "python",
   "pygments_lexer": "ipython3",
   "version": "3.9.12"
  }
 },
 "nbformat": 4,
 "nbformat_minor": 1
}
