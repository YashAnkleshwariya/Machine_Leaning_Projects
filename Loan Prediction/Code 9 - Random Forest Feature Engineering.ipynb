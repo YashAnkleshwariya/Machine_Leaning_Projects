{
 "cells": [
  {
   "cell_type": "markdown",
   "metadata": {
    "id": "lFwktUA6a7zH"
   },
   "source": [
    "# Code 9\n",
    "- Random Forest\n",
    "- Hyperparameter Optimization\n",
    "- GridsearchCV\n",
    "- Best Features\n",
    "- **Feature Engineering**"
   ]
  },
  {
   "cell_type": "markdown",
   "metadata": {
    "id": "9DXfa773a7zZ"
   },
   "source": [
    "## 1/ Import Libraries"
   ]
  },
  {
   "cell_type": "code",
   "execution_count": 1,
   "metadata": {
    "colab": {
     "base_uri": "https://localhost:8080/"
    },
    "executionInfo": {
     "elapsed": 62693,
     "status": "ok",
     "timestamp": 1619088966893,
     "user": {
      "displayName": "Data Science Master Minds",
      "photoUrl": "",
      "userId": "13790691282857793894"
     },
     "user_tz": -330
    },
    "id": "s7o2t9blWo-b",
    "outputId": "486f29ed-d33c-482c-e517-c98778ec1074"
   },
   "outputs": [],
   "source": [
    "#CodeSection1\n",
    "#from google.colab import drive\n",
    "#drive.mount('/mntDrive') "
   ]
  },
  {
   "cell_type": "code",
   "execution_count": 2,
   "metadata": {
    "id": "n8yqRIuha7zn"
   },
   "outputs": [],
   "source": [
    "#CodeSection2\n",
    "import pandas as pd\n",
    "import numpy as np"
   ]
  },
  {
   "cell_type": "markdown",
   "metadata": {
    "id": "wRz6crvoa7zo"
   },
   "source": [
    "## 2/ Import Data"
   ]
  },
  {
   "cell_type": "code",
   "execution_count": 3,
   "metadata": {
    "id": "3u-V5dA4a7zp"
   },
   "outputs": [],
   "source": [
    "#CodeSection3\n",
    "train = pd.read_csv('C:/Users/admin/OneDrive/Documents/Data Sciesnce Repository/Machine_Leaning_Projects/Loan Prediction/input/train.csv')\n",
    "test = pd.read_csv('C:/Users/admin/OneDrive/Documents/Data Sciesnce Repository/Machine_Leaning_Projects/Loan Prediction/input/test.csv')"
   ]
  },
  {
   "cell_type": "markdown",
   "metadata": {
    "id": "m7Cw2k6HORUW"
   },
   "source": [
    "## 3/ Create 2 New Features\n"
   ]
  },
  {
   "cell_type": "code",
   "execution_count": 4,
   "metadata": {
    "id": "7q0T0e9kOdD2"
   },
   "outputs": [
    {
     "data": {
      "text/html": [
       "<div>\n",
       "<style scoped>\n",
       "    .dataframe tbody tr th:only-of-type {\n",
       "        vertical-align: middle;\n",
       "    }\n",
       "\n",
       "    .dataframe tbody tr th {\n",
       "        vertical-align: top;\n",
       "    }\n",
       "\n",
       "    .dataframe thead th {\n",
       "        text-align: right;\n",
       "    }\n",
       "</style>\n",
       "<table border=\"1\" class=\"dataframe\">\n",
       "  <thead>\n",
       "    <tr style=\"text-align: right;\">\n",
       "      <th></th>\n",
       "      <th>Loan_ID</th>\n",
       "      <th>Gender</th>\n",
       "      <th>Married</th>\n",
       "      <th>Dependents</th>\n",
       "      <th>Education</th>\n",
       "      <th>Self_Employed</th>\n",
       "      <th>ApplicantIncome</th>\n",
       "      <th>CoapplicantIncome</th>\n",
       "      <th>LoanAmount</th>\n",
       "      <th>Loan_Amount_Term</th>\n",
       "      <th>Credit_History</th>\n",
       "      <th>Property_Area</th>\n",
       "      <th>Loan_Status</th>\n",
       "    </tr>\n",
       "  </thead>\n",
       "  <tbody>\n",
       "    <tr>\n",
       "      <th>0</th>\n",
       "      <td>LP001002</td>\n",
       "      <td>Male</td>\n",
       "      <td>No</td>\n",
       "      <td>0</td>\n",
       "      <td>Graduate</td>\n",
       "      <td>No</td>\n",
       "      <td>5849</td>\n",
       "      <td>0.0</td>\n",
       "      <td>NaN</td>\n",
       "      <td>360.0</td>\n",
       "      <td>1.0</td>\n",
       "      <td>Urban</td>\n",
       "      <td>Y</td>\n",
       "    </tr>\n",
       "    <tr>\n",
       "      <th>1</th>\n",
       "      <td>LP001003</td>\n",
       "      <td>Male</td>\n",
       "      <td>Yes</td>\n",
       "      <td>1</td>\n",
       "      <td>Graduate</td>\n",
       "      <td>No</td>\n",
       "      <td>4583</td>\n",
       "      <td>1508.0</td>\n",
       "      <td>128.0</td>\n",
       "      <td>360.0</td>\n",
       "      <td>1.0</td>\n",
       "      <td>Rural</td>\n",
       "      <td>N</td>\n",
       "    </tr>\n",
       "    <tr>\n",
       "      <th>2</th>\n",
       "      <td>LP001005</td>\n",
       "      <td>Male</td>\n",
       "      <td>Yes</td>\n",
       "      <td>0</td>\n",
       "      <td>Graduate</td>\n",
       "      <td>Yes</td>\n",
       "      <td>3000</td>\n",
       "      <td>0.0</td>\n",
       "      <td>66.0</td>\n",
       "      <td>360.0</td>\n",
       "      <td>1.0</td>\n",
       "      <td>Urban</td>\n",
       "      <td>Y</td>\n",
       "    </tr>\n",
       "    <tr>\n",
       "      <th>3</th>\n",
       "      <td>LP001006</td>\n",
       "      <td>Male</td>\n",
       "      <td>Yes</td>\n",
       "      <td>0</td>\n",
       "      <td>Not Graduate</td>\n",
       "      <td>No</td>\n",
       "      <td>2583</td>\n",
       "      <td>2358.0</td>\n",
       "      <td>120.0</td>\n",
       "      <td>360.0</td>\n",
       "      <td>1.0</td>\n",
       "      <td>Urban</td>\n",
       "      <td>Y</td>\n",
       "    </tr>\n",
       "    <tr>\n",
       "      <th>4</th>\n",
       "      <td>LP001008</td>\n",
       "      <td>Male</td>\n",
       "      <td>No</td>\n",
       "      <td>0</td>\n",
       "      <td>Graduate</td>\n",
       "      <td>No</td>\n",
       "      <td>6000</td>\n",
       "      <td>0.0</td>\n",
       "      <td>141.0</td>\n",
       "      <td>360.0</td>\n",
       "      <td>1.0</td>\n",
       "      <td>Urban</td>\n",
       "      <td>Y</td>\n",
       "    </tr>\n",
       "  </tbody>\n",
       "</table>\n",
       "</div>"
      ],
      "text/plain": [
       "    Loan_ID Gender Married Dependents     Education Self_Employed  \\\n",
       "0  LP001002   Male      No          0      Graduate            No   \n",
       "1  LP001003   Male     Yes          1      Graduate            No   \n",
       "2  LP001005   Male     Yes          0      Graduate           Yes   \n",
       "3  LP001006   Male     Yes          0  Not Graduate            No   \n",
       "4  LP001008   Male      No          0      Graduate            No   \n",
       "\n",
       "   ApplicantIncome  CoapplicantIncome  LoanAmount  Loan_Amount_Term  \\\n",
       "0             5849                0.0         NaN             360.0   \n",
       "1             4583             1508.0       128.0             360.0   \n",
       "2             3000                0.0        66.0             360.0   \n",
       "3             2583             2358.0       120.0             360.0   \n",
       "4             6000                0.0       141.0             360.0   \n",
       "\n",
       "   Credit_History Property_Area Loan_Status  \n",
       "0             1.0         Urban           Y  \n",
       "1             1.0         Rural           N  \n",
       "2             1.0         Urban           Y  \n",
       "3             1.0         Urban           Y  \n",
       "4             1.0         Urban           Y  "
      ]
     },
     "execution_count": 4,
     "metadata": {},
     "output_type": "execute_result"
    }
   ],
   "source": [
    "#CodeSection4\n",
    "all_data = [train, test]\n",
    "train.head()"
   ]
  },
  {
   "cell_type": "markdown",
   "metadata": {
    "id": "m8hUzCIqOgLn"
   },
   "source": [
    "### 3.1 Create First Feature"
   ]
  },
  {
   "cell_type": "code",
   "execution_count": 5,
   "metadata": {
    "id": "OaQyFlt7OY_v"
   },
   "outputs": [],
   "source": [
    "#CodeSection5\n",
    "# Total Income is Sum of Applicant Income and Co-applicant Income\n",
    "for dataset in all_data:\n",
    "    dataset['Total_Income'] = dataset['ApplicantIncome'] + dataset['CoapplicantIncome']"
   ]
  },
  {
   "cell_type": "markdown",
   "metadata": {
    "id": "2NjKqHcHOwyE"
   },
   "source": [
    "### 3.2 Create Second Feature"
   ]
  },
  {
   "cell_type": "code",
   "execution_count": 6,
   "metadata": {
    "id": "m3KLd7i-OvVX"
   },
   "outputs": [],
   "source": [
    "#CodeSection6\n",
    "# Loan by Income is Loan Amount divided by Total Income\n",
    "for dataset in all_data:\n",
    "    dataset['Loan_by_Income'] = dataset['LoanAmount'] / dataset['Total_Income']"
   ]
  },
  {
   "cell_type": "markdown",
   "metadata": {
    "id": "I5pEcQeA-g8O"
   },
   "source": [
    "## 4/ Preprocessing Improvement"
   ]
  },
  {
   "cell_type": "markdown",
   "metadata": {
    "id": "am7cBDhea70L"
   },
   "source": [
    "### 4.1/ Identify Numerical and Categorical Features"
   ]
  },
  {
   "cell_type": "code",
   "execution_count": 7,
   "metadata": {
    "id": "HyWOSnV8a70M"
   },
   "outputs": [],
   "source": [
    "#CodeSection7\n",
    "# Identify all Numerical and Categorical features\n",
    "numerical_features = ['LoanAmount', 'Loan_Amount_Term', 'Credit_History', 'Total_Income', 'Loan_by_Income']\n",
    "categorical_features = ['Gender', 'Married', 'Dependents', 'Education', 'Self_Employed', 'Property_Area']"
   ]
  },
  {
   "cell_type": "markdown",
   "metadata": {
    "id": "RbXNGRsG0SPc"
   },
   "source": [
    "### 4.2/ Outlier Strategy"
   ]
  },
  {
   "cell_type": "code",
   "execution_count": 8,
   "metadata": {
    "id": "Yq5wHuyv0Z8C"
   },
   "outputs": [],
   "source": [
    "#CodeSection8\n",
    "\n",
    "# Write a loop to do the same\n",
    "for num_var in numerical_features:\n",
    "  Q1 = train[num_var].quantile(0.25)\n",
    "  Q3 = train[num_var].quantile(0.75)\n",
    "\n",
    "  IQR = Q3-Q1\n",
    "\n",
    "  Lower_Whisker = Q1 - 1.5*IQR\n",
    "  Upper_Whisker = Q3 + 1.5*IQR\n",
    "\n",
    "  train[num_var] = train[num_var].apply(lambda x : Upper_Whisker if x >= Upper_Whisker else x)\n",
    "  test[num_var] = test[num_var].apply(lambda x : Upper_Whisker if x >= Upper_Whisker else x)"
   ]
  },
  {
   "cell_type": "markdown",
   "metadata": {
    "id": "xeAnDRX-0sdl"
   },
   "source": [
    "### 4.3/ Import Libraries\n",
    "- Missing Value Imputation - SimpleImputer\n",
    "- Preprocessing - StandardScaler, OrdinalEncoder\n",
    "- Pipeline - make_pipeline, make_column_transformer\n",
    "- Model - Decision Tree"
   ]
  },
  {
   "cell_type": "code",
   "execution_count": 9,
   "metadata": {
    "id": "X_NG_Fhb-5JX"
   },
   "outputs": [],
   "source": [
    "#CodeSection9\n",
    "\n",
    "# Import SimpleImputer\n",
    "from sklearn.impute import SimpleImputer\n",
    "\n",
    "# Import StandardScaler\n",
    "from sklearn.preprocessing import StandardScaler, OrdinalEncoder\n",
    "\n",
    "# Make and Compose Pipeline\n",
    "from sklearn.pipeline import make_pipeline\n",
    "from sklearn.compose import make_column_transformer\n",
    "\n",
    "# Import Decision tree\n",
    "from sklearn.ensemble import RandomForestClassifier"
   ]
  },
  {
   "cell_type": "markdown",
   "metadata": {
    "id": "hANg0WIUYlXm"
   },
   "source": [
    "### 4.4/ Build Pipeline"
   ]
  },
  {
   "cell_type": "code",
   "execution_count": 10,
   "metadata": {
    "id": "OqUk7M7TUjmP"
   },
   "outputs": [],
   "source": [
    "#CodeSection10\n",
    "# Create Preprocessor Pipeline\n",
    "preprocessor = make_column_transformer(\n",
    "    \n",
    "    (make_pipeline(\n",
    "    SimpleImputer(strategy = 'median'), \n",
    "    StandardScaler()), numerical_features),\n",
    "    \n",
    "    (make_pipeline(\n",
    "    SimpleImputer(strategy = 'most_frequent'),\n",
    "    OrdinalEncoder(categories = 'auto')), categorical_features),\n",
    ")"
   ]
  },
  {
   "cell_type": "markdown",
   "metadata": {
    "id": "n1jlzGqWX0zZ"
   },
   "source": [
    "### 4.5/ Divide Data into X and y"
   ]
  },
  {
   "cell_type": "code",
   "execution_count": 11,
   "metadata": {
    "id": "amrg4_FvUfC2"
   },
   "outputs": [],
   "source": [
    "#CodeSection11\n",
    "X = train.drop(['Loan_Status','Loan_ID','ApplicantIncome', 'CoapplicantIncome'], axis =  1)\n",
    "y = train['Loan_Status']"
   ]
  },
  {
   "cell_type": "markdown",
   "metadata": {
    "id": "VXoWPc9d2XnS"
   },
   "source": [
    "### 4.6/ Create Train and Validation Data"
   ]
  },
  {
   "cell_type": "code",
   "execution_count": 12,
   "metadata": {
    "id": "RmD4bY-x2FqT"
   },
   "outputs": [],
   "source": [
    "#CodeSection12\n",
    "from sklearn.model_selection import train_test_split\n",
    "X_train, X_val, y_train, y_val = train_test_split(X,y, test_size = 0.2, random_state = 5) # also see stratify"
   ]
  },
  {
   "cell_type": "markdown",
   "metadata": {
    "id": "vXQBoyz6YsQr"
   },
   "source": [
    "## 5/ Build Model and Fit"
   ]
  },
  {
   "cell_type": "code",
   "execution_count": 13,
   "metadata": {
    "id": "-2jVgmtT6OKc"
   },
   "outputs": [],
   "source": [
    "#CodeSection13\n",
    "# Create Parameter Grid\n",
    "parameter = {'randomforestclassifier__n_estimators' : (22, 23)\n",
    "              , 'randomforestclassifier__max_depth' : (2,3,4,5,6,7)\n",
    "              , 'randomforestclassifier__criterion' : ('gini', 'entropy')\n",
    "              , 'randomforestclassifier__max_features' : ('auto', 'sqrt', 'log2')\n",
    "}"
   ]
  },
  {
   "cell_type": "code",
   "execution_count": 14,
   "metadata": {
    "id": "Gr9rlXuhWVu0"
   },
   "outputs": [],
   "source": [
    "#CodeSection14\n",
    "# Create Model Pipeline and Initiate Model\n",
    "# Change max_depth to find which one gives the best accuracy\n",
    "model = make_pipeline(preprocessor, RandomForestClassifier())"
   ]
  },
  {
   "cell_type": "code",
   "execution_count": 15,
   "metadata": {
    "id": "mH8xpvQVXJhH"
   },
   "outputs": [],
   "source": [
    "#CodeSection15\n",
    "# Instead of Fit we so Grid Search\n",
    "from sklearn.model_selection import GridSearchCV\n",
    "model_search = GridSearchCV(model, param_grid = parameter, verbose = True, n_jobs = -1)"
   ]
  },
  {
   "cell_type": "code",
   "execution_count": 16,
   "metadata": {
    "colab": {
     "base_uri": "https://localhost:8080/"
    },
    "executionInfo": {
     "elapsed": 19060,
     "status": "ok",
     "timestamp": 1619092206495,
     "user": {
      "displayName": "Data Science Master Minds",
      "photoUrl": "",
      "userId": "13790691282857793894"
     },
     "user_tz": -330
    },
    "id": "1ZZqRJ0t_xYr",
    "outputId": "e5319032-54a5-4939-c163-3adfa167c5fe"
   },
   "outputs": [
    {
     "name": "stdout",
     "output_type": "stream",
     "text": [
      "Fitting 5 folds for each of 72 candidates, totalling 360 fits\n"
     ]
    },
    {
     "data": {
      "text/plain": [
       "GridSearchCV(estimator=Pipeline(steps=[('columntransformer',\n",
       "                                        ColumnTransformer(transformers=[('pipeline-1',\n",
       "                                                                         Pipeline(steps=[('simpleimputer',\n",
       "                                                                                          SimpleImputer(strategy='median')),\n",
       "                                                                                         ('standardscaler',\n",
       "                                                                                          StandardScaler())]),\n",
       "                                                                         ['LoanAmount',\n",
       "                                                                          'Loan_Amount_Term',\n",
       "                                                                          'Credit_History',\n",
       "                                                                          'Total_Income',\n",
       "                                                                          'Loan_by_Income']),\n",
       "                                                                        ('pipeline-2',\n",
       "                                                                         Pipeline(steps=[('simpleimputer',\n",
       "                                                                                          SimpleIm...\n",
       "                                                                          'Education',\n",
       "                                                                          'Self_Employed',\n",
       "                                                                          'Property_Area'])])),\n",
       "                                       ('randomforestclassifier',\n",
       "                                        RandomForestClassifier())]),\n",
       "             n_jobs=-1,\n",
       "             param_grid={'randomforestclassifier__criterion': ('gini',\n",
       "                                                               'entropy'),\n",
       "                         'randomforestclassifier__max_depth': (2, 3, 4, 5, 6,\n",
       "                                                               7),\n",
       "                         'randomforestclassifier__max_features': ('auto',\n",
       "                                                                  'sqrt',\n",
       "                                                                  'log2'),\n",
       "                         'randomforestclassifier__n_estimators': (22, 23)},\n",
       "             verbose=True)"
      ]
     },
     "execution_count": 16,
     "metadata": {},
     "output_type": "execute_result"
    }
   ],
   "source": [
    "#CodeSection16\n",
    "# Fit Gridsearch\n",
    "model_search.fit(X_train,y_train)"
   ]
  },
  {
   "cell_type": "code",
   "execution_count": 17,
   "metadata": {
    "colab": {
     "base_uri": "https://localhost:8080/"
    },
    "executionInfo": {
     "elapsed": 18891,
     "status": "ok",
     "timestamp": 1619092206495,
     "user": {
      "displayName": "Data Science Master Minds",
      "photoUrl": "",
      "userId": "13790691282857793894"
     },
     "user_tz": -330
    },
    "id": "2d1x1X_JCT8J",
    "outputId": "dc804f08-180a-4369-9ac0-6928129f6e3f"
   },
   "outputs": [
    {
     "data": {
      "text/plain": [
       "RandomForestClassifier(max_depth=6, n_estimators=22)"
      ]
     },
     "execution_count": 17,
     "metadata": {},
     "output_type": "execute_result"
    }
   ],
   "source": [
    "#CodeSection17\n",
    "# Get best estimator from the Girdsearch\n",
    "model_search.best_estimator_.named_steps.randomforestclassifier"
   ]
  },
  {
   "cell_type": "markdown",
   "metadata": {
    "id": "sreeouPFI5Bf"
   },
   "source": [
    "## 6/ Check Best Features"
   ]
  },
  {
   "cell_type": "code",
   "execution_count": 18,
   "metadata": {
    "colab": {
     "base_uri": "https://localhost:8080/"
    },
    "executionInfo": {
     "elapsed": 18527,
     "status": "ok",
     "timestamp": 1619092206496,
     "user": {
      "displayName": "Data Science Master Minds",
      "photoUrl": "",
      "userId": "13790691282857793894"
     },
     "user_tz": -330
    },
    "id": "SIyhVT6xI-Us",
    "outputId": "a02ea209-58d9-4cc0-83f4-5ea3adc2d876"
   },
   "outputs": [
    {
     "data": {
      "text/plain": [
       "array([0.09892904, 0.02928558, 0.44720121, 0.14499786, 0.16955761,\n",
       "       0.00826558, 0.00914921, 0.03346018, 0.01512632, 0.0108477 ,\n",
       "       0.03317973])"
      ]
     },
     "execution_count": 18,
     "metadata": {},
     "output_type": "execute_result"
    }
   ],
   "source": [
    "#CodeSection18\n",
    "# Get Feature Importance Score\n",
    "feat_imp = model_search.best_estimator_.named_steps.randomforestclassifier.feature_importances_\n",
    "feat_imp"
   ]
  },
  {
   "cell_type": "code",
   "execution_count": 19,
   "metadata": {
    "id": "KmCYrh8LJEPt"
   },
   "outputs": [],
   "source": [
    "#CodeSection19\n",
    "# Convert to Series with Feature Names\n",
    "imp_feat=pd.Series(feat_imp,index=X_train.columns.tolist())"
   ]
  },
  {
   "cell_type": "code",
   "execution_count": 20,
   "metadata": {
    "colab": {
     "base_uri": "https://localhost:8080/"
    },
    "executionInfo": {
     "elapsed": 18160,
     "status": "ok",
     "timestamp": 1619092206497,
     "user": {
      "displayName": "Data Science Master Minds",
      "photoUrl": "",
      "userId": "13790691282857793894"
     },
     "user_tz": -330
    },
    "id": "P3__cUMFJ6Rl",
    "outputId": "be0986fb-327b-4780-fc78-f33f2ea1740e"
   },
   "outputs": [
    {
     "data": {
      "text/plain": [
       "Dependents          0.447201\n",
       "Self_Employed       0.169558\n",
       "Education           0.144998\n",
       "Gender              0.098929\n",
       "Credit_History      0.033460\n",
       "Loan_by_Income      0.033180\n",
       "Married             0.029286\n",
       "Property_Area       0.015126\n",
       "Total_Income        0.010848\n",
       "Loan_Amount_Term    0.009149\n",
       "LoanAmount          0.008266\n",
       "dtype: float64"
      ]
     },
     "execution_count": 20,
     "metadata": {},
     "output_type": "execute_result"
    }
   ],
   "source": [
    "#CodeSection20\n",
    "# List \n",
    "imp_feat.sort_values(ascending=False) # You also plot the same"
   ]
  },
  {
   "cell_type": "markdown",
   "metadata": {
    "id": "Omv4nWgwa70Z"
   },
   "source": [
    "## 6/ Check Accuracy of Model on Train Data"
   ]
  },
  {
   "cell_type": "code",
   "execution_count": 21,
   "metadata": {
    "id": "PQi2u6uQa70Z"
   },
   "outputs": [],
   "source": [
    "#CodeSection21\n",
    "# Predict on Train Data\n",
    "y_train_pred = model_search.predict(X_train)\n",
    "y_val_pred = model_search.predict(X_val)"
   ]
  },
  {
   "cell_type": "markdown",
   "metadata": {
    "id": "AqPB9qLLa70a"
   },
   "source": [
    "### We can use a Accuracy Function from Metrics\n",
    "- Check Train Accuracy"
   ]
  },
  {
   "cell_type": "code",
   "execution_count": 22,
   "metadata": {
    "id": "L8VJNsHIa70a"
   },
   "outputs": [],
   "source": [
    "#CodeSection22\n",
    "# Import metrics library\n",
    "from sklearn.metrics import accuracy_score"
   ]
  },
  {
   "cell_type": "code",
   "execution_count": 23,
   "metadata": {
    "colab": {
     "base_uri": "https://localhost:8080/"
    },
    "executionInfo": {
     "elapsed": 17098,
     "status": "ok",
     "timestamp": 1619092206498,
     "user": {
      "displayName": "Data Science Master Minds",
      "photoUrl": "",
      "userId": "13790691282857793894"
     },
     "user_tz": -330
    },
    "id": "p7llEg7aa70b",
    "outputId": "bc92829c-cbc0-4a3c-e087-ec451bd0d4fc"
   },
   "outputs": [
    {
     "name": "stdout",
     "output_type": "stream",
     "text": [
      " Train Accuracy : 86.4%\n",
      " Validation Accuracy : 80.5%\n"
     ]
    }
   ],
   "source": [
    "#CodeSection23\n",
    "# Print Train Accuracy\n",
    "print(f\" Train Accuracy : {accuracy_score(y_train, y_train_pred):0.1%}\")\n",
    "print(f\" Validation Accuracy : {accuracy_score(y_val, y_val_pred):0.1%}\")"
   ]
  },
  {
   "cell_type": "markdown",
   "metadata": {
    "id": "QIMZgLEWa70b"
   },
   "source": [
    "## 7/ Predict and Submission"
   ]
  },
  {
   "cell_type": "markdown",
   "metadata": {
    "id": "BwZubGmra70b"
   },
   "source": [
    "### Predict on \"Test Data\""
   ]
  },
  {
   "cell_type": "code",
   "execution_count": 24,
   "metadata": {
    "colab": {
     "base_uri": "https://localhost:8080/"
    },
    "executionInfo": {
     "elapsed": 16025,
     "status": "ok",
     "timestamp": 1619092206499,
     "user": {
      "displayName": "Data Science Master Minds",
      "photoUrl": "",
      "userId": "13790691282857793894"
     },
     "user_tz": -330
    },
    "id": "7qnE4K9Ca70c",
    "outputId": "63504cb0-faa2-45cc-b2eb-49da21229d0f"
   },
   "outputs": [],
   "source": [
    "#CodeSection24\n",
    "# Get all the X Variables from the Test Dataset\n",
    "X_test = test.drop(['Loan_ID'], axis =  1)\n",
    "\n",
    "# Predict on X_test Data (\"X_test_prep\")\n",
    "X_test_prep = model_search.predict(X_test)"
   ]
  },
  {
   "cell_type": "markdown",
   "metadata": {
    "id": "SClle2xqa70e"
   },
   "source": [
    "### Create Submission File"
   ]
  },
  {
   "cell_type": "code",
   "execution_count": 25,
   "metadata": {
    "id": "LgdlFL46a70f"
   },
   "outputs": [],
   "source": [
    "#CodeSection25\n",
    "submission = pd.DataFrame({\n",
    "    'Loan_ID' : test['Loan_ID'],\n",
    "    'Loan_Status' : X_test_prep\n",
    "})"
   ]
  },
  {
   "cell_type": "markdown",
   "metadata": {
    "id": "MAZ0TP21a70g"
   },
   "source": [
    "### Export Submission File"
   ]
  },
  {
   "cell_type": "code",
   "execution_count": 26,
   "metadata": {
    "id": "AnfbYZoKa70g"
   },
   "outputs": [],
   "source": [
    "#CodeSection26\n",
    "submission.to_csv('C:/Users/admin/OneDrive/Documents/Data Sciesnce Repository/Machine_Leaning_Projects/Loan Prediction/output/O9_Feature_Engineering.csv', index = False)"
   ]
  },
  {
   "cell_type": "code",
   "execution_count": 27,
   "metadata": {
    "id": "n13R8vTfa70g"
   },
   "outputs": [],
   "source": [
    "# LB Accuracy : 0.7916 (Validation Accuracy : 81.3%)"
   ]
  }
 ],
 "metadata": {
  "colab": {
   "collapsed_sections": [],
   "name": "InClass Working Code 9 - Random Forest Feature Engineering.ipynb",
   "provenance": [],
   "toc_visible": true
  },
  "kernelspec": {
   "display_name": "Python 3 (ipykernel)",
   "language": "python",
   "name": "python3"
  },
  "language_info": {
   "codemirror_mode": {
    "name": "ipython",
    "version": 3
   },
   "file_extension": ".py",
   "mimetype": "text/x-python",
   "name": "python",
   "nbconvert_exporter": "python",
   "pygments_lexer": "ipython3",
   "version": "3.9.12"
  }
 },
 "nbformat": 4,
 "nbformat_minor": 1
}
