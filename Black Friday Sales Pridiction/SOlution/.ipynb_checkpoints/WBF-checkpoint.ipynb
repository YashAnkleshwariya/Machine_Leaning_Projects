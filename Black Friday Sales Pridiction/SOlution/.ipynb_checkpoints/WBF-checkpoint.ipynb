{
 "cells": [
  {
   "cell_type": "code",
   "execution_count": 61,
   "id": "a5c87eaf-4da7-4cdf-b8ca-11adf77e4324",
   "metadata": {},
   "outputs": [],
   "source": [
    "import pandas as pd\n",
    "import os\n",
    "import cv2"
   ]
  },
  {
   "cell_type": "code",
   "execution_count": 62,
   "id": "30fdf636-3a6e-40f1-bf1e-72f6eeeef852",
   "metadata": {},
   "outputs": [],
   "source": [
    "files=os.listdir('wbf_5_fold/')"
   ]
  },
  {
   "cell_type": "code",
   "execution_count": 63,
   "id": "d42d4602-1c7c-4f83-bac9-6ffde4611faf",
   "metadata": {},
   "outputs": [
    {
     "data": {
      "text/plain": [
       "['subs_fold_1.csv',\n",
       " 'subs_fold_3.csv',\n",
       " 'subs_fold_2.csv',\n",
       " 'subs_fold_5.csv',\n",
       " 'subs_fold_4.csv']"
      ]
     },
     "execution_count": 63,
     "metadata": {},
     "output_type": "execute_result"
    }
   ],
   "source": [
    "files"
   ]
  },
  {
   "cell_type": "code",
   "execution_count": 64,
   "id": "8a5e4199-c5f7-44e1-86bf-5894169d9b32",
   "metadata": {},
   "outputs": [],
   "source": [
    "dfs = [pd.read_csv(f'wbf_5_fold/{i}') for i in files ]"
   ]
  },
  {
   "cell_type": "code",
   "execution_count": 65,
   "id": "f0efc30f-a655-4f77-a08a-b490203c8719",
   "metadata": {},
   "outputs": [],
   "source": [
    "test=os.listdir('test/images/')\n",
    "test = [i for i in test if \".jpg\" in i]"
   ]
  },
  {
   "cell_type": "code",
   "execution_count": 66,
   "id": "a002be8a-b09f-4007-ba1f-49b74513a64a",
   "metadata": {},
   "outputs": [],
   "source": [
    "box_col=['XMin', 'YMin', 'XMax', 'YMax']"
   ]
  },
  {
   "cell_type": "code",
   "execution_count": 67,
   "id": "b8c1fa85-ffc0-44cb-bc99-637ab0e62df0",
   "metadata": {},
   "outputs": [],
   "source": [
    "final_df = pd.DataFrame()"
   ]
  },
  {
   "cell_type": "code",
   "execution_count": 68,
   "id": "dd8e3468-a2b1-413a-a62b-65e1dae1939e",
   "metadata": {},
   "outputs": [],
   "source": [
    "weights=[1]*len(files)"
   ]
  },
  {
   "cell_type": "code",
   "execution_count": 69,
   "id": "32b8c986-7c8a-49c5-991d-e2c575302187",
   "metadata": {},
   "outputs": [],
   "source": [
    "iou_thr = 0.5\n",
    "skip_box_thr = 0.0001\n",
    "sigma = 0.1"
   ]
  },
  {
   "cell_type": "code",
   "execution_count": 70,
   "id": "d0beddfc-595f-46ae-8ed9-293c071db06d",
   "metadata": {},
   "outputs": [],
   "source": [
    "for name in test:\n",
    "    h,w,c = cv2.imread(f'test/images/{name}').shape\n",
    "    box_list=[]\n",
    "    score_list =[]\n",
    "    label_list= []\n",
    "    for df in dfs:\n",
    "        temp = df.loc[df.ImageID==name]\n",
    "        temp[['XMin','XMax']] = temp[['XMin','XMax']]/w\n",
    "        temp[['YMin','YMax']] = temp[['YMin','YMax']]/h\n",
    "        list_box = list([list(i) for i in temp[box_col].values])\n",
    "        box_list.append(list_box)\n",
    "        score_list.append(list(temp.Conf.values))\n",
    "        label_list.append([1]*len(list(temp.Conf.values)))\n",
    "    boxes, scores, labels = weighted_boxes_fusion(box_list, \n",
    "                                              score_list, \n",
    "                                              label_list, \n",
    "                                              weights=weights, \n",
    "                                              iou_thr=iou_thr, \n",
    "                                              skip_box_thr=skip_box_thr)\n",
    "    box_ = pd.DataFrame(boxes,columns=box_col)\n",
    "    box_[['XMin','XMax']] = box_[['XMin','XMax']]*w\n",
    "    box_[['YMin','YMax']] = box_[['YMin','YMax']]*h\n",
    "    box_['Conf'] = scores\n",
    "    box_['ImageID'] = name\n",
    "    box_['LabelName'] = 'pothole'\n",
    "    final_df = pd.concat([final_df,box_])"
   ]
  },
  {
   "cell_type": "code",
   "execution_count": 71,
   "id": "5f876f53-2260-4860-a91d-98a75d365886",
   "metadata": {},
   "outputs": [
    {
     "data": {
      "text/plain": [
       "(8303, 7)"
      ]
     },
     "execution_count": 71,
     "metadata": {},
     "output_type": "execute_result"
    }
   ],
   "source": [
    "final_df.shape"
   ]
  },
  {
   "cell_type": "code",
   "execution_count": 72,
   "id": "3b054633-abfe-43e9-836b-83bcedac6068",
   "metadata": {},
   "outputs": [],
   "source": [
    "final_df.to_csv('wbf_final.csv',index=None)"
   ]
  },
  {
   "cell_type": "code",
   "execution_count": 73,
   "id": "0a95006e-773a-4d43-9185-7903ec4f6640",
   "metadata": {},
   "outputs": [
    {
     "data": {
      "text/html": [
       "<div>\n",
       "<style scoped>\n",
       "    .dataframe tbody tr th:only-of-type {\n",
       "        vertical-align: middle;\n",
       "    }\n",
       "\n",
       "    .dataframe tbody tr th {\n",
       "        vertical-align: top;\n",
       "    }\n",
       "\n",
       "    .dataframe thead th {\n",
       "        text-align: right;\n",
       "    }\n",
       "</style>\n",
       "<table border=\"1\" class=\"dataframe\">\n",
       "  <thead>\n",
       "    <tr style=\"text-align: right;\">\n",
       "      <th></th>\n",
       "      <th>XMin</th>\n",
       "      <th>YMin</th>\n",
       "      <th>XMax</th>\n",
       "      <th>YMax</th>\n",
       "      <th>Conf</th>\n",
       "      <th>ImageID</th>\n",
       "      <th>LabelName</th>\n",
       "    </tr>\n",
       "  </thead>\n",
       "  <tbody>\n",
       "    <tr>\n",
       "      <th>0</th>\n",
       "      <td>85.356190</td>\n",
       "      <td>277.453108</td>\n",
       "      <td>255.736095</td>\n",
       "      <td>398.620342</td>\n",
       "      <td>0.450133</td>\n",
       "      <td>806.jpg</td>\n",
       "      <td>pothole</td>\n",
       "    </tr>\n",
       "    <tr>\n",
       "      <th>1</th>\n",
       "      <td>116.405045</td>\n",
       "      <td>328.812389</td>\n",
       "      <td>239.720097</td>\n",
       "      <td>376.711510</td>\n",
       "      <td>0.082478</td>\n",
       "      <td>806.jpg</td>\n",
       "      <td>pothole</td>\n",
       "    </tr>\n",
       "    <tr>\n",
       "      <th>2</th>\n",
       "      <td>117.772702</td>\n",
       "      <td>270.809212</td>\n",
       "      <td>249.157409</td>\n",
       "      <td>349.850555</td>\n",
       "      <td>0.029568</td>\n",
       "      <td>806.jpg</td>\n",
       "      <td>pothole</td>\n",
       "    </tr>\n",
       "    <tr>\n",
       "      <th>3</th>\n",
       "      <td>0.000000</td>\n",
       "      <td>255.172379</td>\n",
       "      <td>248.061127</td>\n",
       "      <td>442.541840</td>\n",
       "      <td>0.009640</td>\n",
       "      <td>806.jpg</td>\n",
       "      <td>pothole</td>\n",
       "    </tr>\n",
       "    <tr>\n",
       "      <th>4</th>\n",
       "      <td>466.242676</td>\n",
       "      <td>327.908630</td>\n",
       "      <td>502.434265</td>\n",
       "      <td>395.974640</td>\n",
       "      <td>0.007489</td>\n",
       "      <td>806.jpg</td>\n",
       "      <td>pothole</td>\n",
       "    </tr>\n",
       "    <tr>\n",
       "      <th>5</th>\n",
       "      <td>446.065002</td>\n",
       "      <td>332.841675</td>\n",
       "      <td>503.000000</td>\n",
       "      <td>421.546783</td>\n",
       "      <td>0.003275</td>\n",
       "      <td>806.jpg</td>\n",
       "      <td>pothole</td>\n",
       "    </tr>\n",
       "    <tr>\n",
       "      <th>6</th>\n",
       "      <td>62.468082</td>\n",
       "      <td>307.469147</td>\n",
       "      <td>207.643555</td>\n",
       "      <td>409.456360</td>\n",
       "      <td>0.002580</td>\n",
       "      <td>806.jpg</td>\n",
       "      <td>pothole</td>\n",
       "    </tr>\n",
       "    <tr>\n",
       "      <th>7</th>\n",
       "      <td>402.526031</td>\n",
       "      <td>33.305428</td>\n",
       "      <td>468.053040</td>\n",
       "      <td>53.999214</td>\n",
       "      <td>0.002573</td>\n",
       "      <td>806.jpg</td>\n",
       "      <td>pothole</td>\n",
       "    </tr>\n",
       "  </tbody>\n",
       "</table>\n",
       "</div>"
      ],
      "text/plain": [
       "         XMin        YMin        XMax        YMax      Conf  ImageID LabelName\n",
       "0   85.356190  277.453108  255.736095  398.620342  0.450133  806.jpg   pothole\n",
       "1  116.405045  328.812389  239.720097  376.711510  0.082478  806.jpg   pothole\n",
       "2  117.772702  270.809212  249.157409  349.850555  0.029568  806.jpg   pothole\n",
       "3    0.000000  255.172379  248.061127  442.541840  0.009640  806.jpg   pothole\n",
       "4  466.242676  327.908630  502.434265  395.974640  0.007489  806.jpg   pothole\n",
       "5  446.065002  332.841675  503.000000  421.546783  0.003275  806.jpg   pothole\n",
       "6   62.468082  307.469147  207.643555  409.456360  0.002580  806.jpg   pothole\n",
       "7  402.526031   33.305428  468.053040   53.999214  0.002573  806.jpg   pothole"
      ]
     },
     "execution_count": 73,
     "metadata": {},
     "output_type": "execute_result"
    }
   ],
   "source": [
    "box_"
   ]
  },
  {
   "cell_type": "code",
   "execution_count": 74,
   "id": "1e6a0435-c89a-40e3-b314-15c38c58b672",
   "metadata": {},
   "outputs": [
    {
     "data": {
      "text/html": [
       "<div>\n",
       "<style scoped>\n",
       "    .dataframe tbody tr th:only-of-type {\n",
       "        vertical-align: middle;\n",
       "    }\n",
       "\n",
       "    .dataframe tbody tr th {\n",
       "        vertical-align: top;\n",
       "    }\n",
       "\n",
       "    .dataframe thead th {\n",
       "        text-align: right;\n",
       "    }\n",
       "</style>\n",
       "<table border=\"1\" class=\"dataframe\">\n",
       "  <thead>\n",
       "    <tr style=\"text-align: right;\">\n",
       "      <th></th>\n",
       "      <th>XMin</th>\n",
       "      <th>YMin</th>\n",
       "      <th>XMax</th>\n",
       "      <th>YMax</th>\n",
       "      <th>Conf</th>\n",
       "      <th>LabelName</th>\n",
       "      <th>ImageID</th>\n",
       "    </tr>\n",
       "  </thead>\n",
       "  <tbody>\n",
       "    <tr>\n",
       "      <th>1357</th>\n",
       "      <td>0.158872</td>\n",
       "      <td>0.475769</td>\n",
       "      <td>0.502125</td>\n",
       "      <td>0.687662</td>\n",
       "      <td>0.734886</td>\n",
       "      <td>pothole</td>\n",
       "      <td>806.jpg</td>\n",
       "    </tr>\n",
       "    <tr>\n",
       "      <th>1358</th>\n",
       "      <td>0.235071</td>\n",
       "      <td>0.580530</td>\n",
       "      <td>0.478237</td>\n",
       "      <td>0.657168</td>\n",
       "      <td>0.159031</td>\n",
       "      <td>pothole</td>\n",
       "      <td>806.jpg</td>\n",
       "    </tr>\n",
       "    <tr>\n",
       "      <th>1359</th>\n",
       "      <td>0.223450</td>\n",
       "      <td>0.479750</td>\n",
       "      <td>0.496726</td>\n",
       "      <td>0.610305</td>\n",
       "      <td>0.052697</td>\n",
       "      <td>pothole</td>\n",
       "      <td>806.jpg</td>\n",
       "    </tr>\n",
       "  </tbody>\n",
       "</table>\n",
       "</div>"
      ],
      "text/plain": [
       "          XMin      YMin      XMax      YMax      Conf LabelName  ImageID\n",
       "1357  0.158872  0.475769  0.502125  0.687662  0.734886   pothole  806.jpg\n",
       "1358  0.235071  0.580530  0.478237  0.657168  0.159031   pothole  806.jpg\n",
       "1359  0.223450  0.479750  0.496726  0.610305  0.052697   pothole  806.jpg"
      ]
     },
     "execution_count": 74,
     "metadata": {},
     "output_type": "execute_result"
    }
   ],
   "source": [
    "temp"
   ]
  },
  {
   "cell_type": "code",
   "execution_count": 44,
   "id": "abe642ce-4d32-42a2-b9ce-5e5939613f1b",
   "metadata": {},
   "outputs": [],
   "source": [
    "from ensemble_boxes import *\n"
   ]
  },
  {
   "cell_type": "code",
   "execution_count": 45,
   "id": "fdcbd2ff-d719-479c-b8dd-522ac5d7d263",
   "metadata": {},
   "outputs": [
    {
     "data": {
      "text/plain": [
       "array([[ 87.22399248, 277.98235703, 257.94321603, 395.89312363],\n",
       "       [116.65795058, 329.82907104, 234.51495174, 373.98422241],\n",
       "       [120.75105026, 267.74806023, 248.77213633, 348.91726685],\n",
       "       [  0.        , 255.17237854, 248.06112671, 442.5418396 ],\n",
       "       [466.24267578, 327.90863037, 502.43426514, 395.97463989],\n",
       "       [ 62.46808243, 307.46914673, 207.64355469, 409.45635986],\n",
       "       [402.52603149,  33.30542755, 468.05303955,  53.99921417]])"
      ]
     },
     "execution_count": 45,
     "metadata": {},
     "output_type": "execute_result"
    }
   ],
   "source": [
    "boxes"
   ]
  },
  {
   "cell_type": "code",
   "execution_count": 46,
   "id": "28f3390e-1656-49f7-a635-51f1a6c92998",
   "metadata": {},
   "outputs": [
    {
     "data": {
      "text/html": [
       "<div>\n",
       "<style scoped>\n",
       "    .dataframe tbody tr th:only-of-type {\n",
       "        vertical-align: middle;\n",
       "    }\n",
       "\n",
       "    .dataframe tbody tr th {\n",
       "        vertical-align: top;\n",
       "    }\n",
       "\n",
       "    .dataframe thead th {\n",
       "        text-align: right;\n",
       "    }\n",
       "</style>\n",
       "<table border=\"1\" class=\"dataframe\">\n",
       "  <thead>\n",
       "    <tr style=\"text-align: right;\">\n",
       "      <th></th>\n",
       "      <th>XMin</th>\n",
       "      <th>YMin</th>\n",
       "      <th>XMax</th>\n",
       "      <th>YMax</th>\n",
       "      <th>Conf</th>\n",
       "      <th>LabelName</th>\n",
       "      <th>ImageID</th>\n",
       "    </tr>\n",
       "  </thead>\n",
       "  <tbody>\n",
       "    <tr>\n",
       "      <th>1068</th>\n",
       "      <td>88.177574</td>\n",
       "      <td>270.657257</td>\n",
       "      <td>246.616638</td>\n",
       "      <td>398.769958</td>\n",
       "      <td>0.341014</td>\n",
       "      <td>pothole</td>\n",
       "      <td>806.jpg</td>\n",
       "    </tr>\n",
       "    <tr>\n",
       "      <th>1069</th>\n",
       "      <td>116.721703</td>\n",
       "      <td>329.708954</td>\n",
       "      <td>233.669357</td>\n",
       "      <td>374.056427</td>\n",
       "      <td>0.107364</td>\n",
       "      <td>pothole</td>\n",
       "      <td>806.jpg</td>\n",
       "    </tr>\n",
       "    <tr>\n",
       "      <th>1070</th>\n",
       "      <td>118.230301</td>\n",
       "      <td>274.222931</td>\n",
       "      <td>251.048248</td>\n",
       "      <td>351.136810</td>\n",
       "      <td>0.030413</td>\n",
       "      <td>pothole</td>\n",
       "      <td>806.jpg</td>\n",
       "    </tr>\n",
       "  </tbody>\n",
       "</table>\n",
       "</div>"
      ],
      "text/plain": [
       "            XMin        YMin        XMax        YMax      Conf LabelName  \\\n",
       "1068   88.177574  270.657257  246.616638  398.769958  0.341014   pothole   \n",
       "1069  116.721703  329.708954  233.669357  374.056427  0.107364   pothole   \n",
       "1070  118.230301  274.222931  251.048248  351.136810  0.030413   pothole   \n",
       "\n",
       "      ImageID  \n",
       "1068  806.jpg  \n",
       "1069  806.jpg  \n",
       "1070  806.jpg  "
      ]
     },
     "execution_count": 46,
     "metadata": {},
     "output_type": "execute_result"
    }
   ],
   "source": [
    "df.loc[df.ImageID==name]"
   ]
  }
 ],
 "metadata": {
  "kernelspec": {
   "display_name": "Python 3 (ipykernel)",
   "language": "python",
   "name": "python3"
  },
  "language_info": {
   "codemirror_mode": {
    "name": "ipython",
    "version": 3
   },
   "file_extension": ".py",
   "mimetype": "text/x-python",
   "name": "python",
   "nbconvert_exporter": "python",
   "pygments_lexer": "ipython3",
   "version": "3.9.12"
  }
 },
 "nbformat": 4,
 "nbformat_minor": 5
}
