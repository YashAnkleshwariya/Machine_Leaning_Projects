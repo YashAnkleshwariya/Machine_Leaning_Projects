{
 "cells": [
  {
   "cell_type": "code",
   "execution_count": 1,
   "id": "eb8abdec",
   "metadata": {},
   "outputs": [],
   "source": [
    "import numpy as np\n",
    "import pandas as pd\n",
    "import matplotlib.pyplot as plt\n",
    "import seaborn as sns\n",
    "from sklearn.preprocessing import LabelEncoder,StandardScaler"
   ]
  },
  {
   "cell_type": "code",
   "execution_count": 2,
   "id": "50f86fac",
   "metadata": {},
   "outputs": [],
   "source": [
    "train=pd.read_csv('C:/Users/admin/OneDrive/Documents/Data Sciesnce Repository/Machine_Leaning_Projects/Loan_Rate Predection/Input/train.csv')\n",
    "test=pd.read_csv('C:/Users/admin/OneDrive/Documents/Data Sciesnce Repository/Machine_Leaning_Projects/Loan_Rate Predection/Input/test.csv')"
   ]
  },
  {
   "cell_type": "code",
   "execution_count": 3,
   "id": "be17fa45",
   "metadata": {},
   "outputs": [],
   "source": [
    "# combining both data sets\n",
    "df = pd.concat([train,test], axis = 0)"
   ]
  },
  {
   "cell_type": "code",
   "execution_count": 4,
   "id": "6905129e",
   "metadata": {},
   "outputs": [
    {
     "data": {
      "text/plain": [
       "Loan_ID                         0\n",
       "Loan_Amount_Requested           0\n",
       "Length_Employed             12307\n",
       "Home_Owner                  42060\n",
       "Annual_Income               42000\n",
       "Income_Verified                 0\n",
       "Purpose_Of_Loan                 0\n",
       "Debt_To_Income                  0\n",
       "Inquiries_Last_6Mo              0\n",
       "Months_Since_Deliquency    147238\n",
       "Number_Open_Accounts            0\n",
       "Total_Accounts                  0\n",
       "Gender                          0\n",
       "Interest_Rate              109541\n",
       "dtype: int64"
      ]
     },
     "execution_count": 4,
     "metadata": {},
     "output_type": "execute_result"
    }
   ],
   "source": [
    "# Null values\n",
    "df.isnull().sum()"
   ]
  },
  {
   "cell_type": "code",
   "execution_count": 5,
   "id": "eed4b581",
   "metadata": {},
   "outputs": [
    {
     "data": {
      "text/html": [
       "<div>\n",
       "<style scoped>\n",
       "    .dataframe tbody tr th:only-of-type {\n",
       "        vertical-align: middle;\n",
       "    }\n",
       "\n",
       "    .dataframe tbody tr th {\n",
       "        vertical-align: top;\n",
       "    }\n",
       "\n",
       "    .dataframe thead th {\n",
       "        text-align: right;\n",
       "    }\n",
       "</style>\n",
       "<table border=\"1\" class=\"dataframe\">\n",
       "  <thead>\n",
       "    <tr style=\"text-align: right;\">\n",
       "      <th></th>\n",
       "      <th>Loan_ID</th>\n",
       "      <th>Loan_Amount_Requested</th>\n",
       "      <th>Length_Employed</th>\n",
       "      <th>Home_Owner</th>\n",
       "      <th>Annual_Income</th>\n",
       "      <th>Income_Verified</th>\n",
       "      <th>Purpose_Of_Loan</th>\n",
       "      <th>Debt_To_Income</th>\n",
       "      <th>Inquiries_Last_6Mo</th>\n",
       "      <th>Months_Since_Deliquency</th>\n",
       "      <th>Number_Open_Accounts</th>\n",
       "      <th>Total_Accounts</th>\n",
       "      <th>Gender</th>\n",
       "      <th>Interest_Rate</th>\n",
       "    </tr>\n",
       "  </thead>\n",
       "  <tbody>\n",
       "    <tr>\n",
       "      <th>0</th>\n",
       "      <td>10000001</td>\n",
       "      <td>7,000</td>\n",
       "      <td>&lt; 1 year</td>\n",
       "      <td>Rent</td>\n",
       "      <td>68000.0</td>\n",
       "      <td>not verified</td>\n",
       "      <td>car</td>\n",
       "      <td>18.37</td>\n",
       "      <td>0</td>\n",
       "      <td>NaN</td>\n",
       "      <td>9</td>\n",
       "      <td>14</td>\n",
       "      <td>Female</td>\n",
       "      <td>1</td>\n",
       "    </tr>\n",
       "    <tr>\n",
       "      <th>1</th>\n",
       "      <td>10000002</td>\n",
       "      <td>30,000</td>\n",
       "      <td>4 years</td>\n",
       "      <td>Mortgage</td>\n",
       "      <td>NaN</td>\n",
       "      <td>VERIFIED - income</td>\n",
       "      <td>debt_consolidation</td>\n",
       "      <td>14.93</td>\n",
       "      <td>0</td>\n",
       "      <td>17.0</td>\n",
       "      <td>12</td>\n",
       "      <td>24</td>\n",
       "      <td>Female</td>\n",
       "      <td>3</td>\n",
       "    </tr>\n",
       "    <tr>\n",
       "      <th>2</th>\n",
       "      <td>10000003</td>\n",
       "      <td>24,725</td>\n",
       "      <td>7 years</td>\n",
       "      <td>Mortgage</td>\n",
       "      <td>75566.4</td>\n",
       "      <td>VERIFIED - income source</td>\n",
       "      <td>debt_consolidation</td>\n",
       "      <td>15.88</td>\n",
       "      <td>0</td>\n",
       "      <td>NaN</td>\n",
       "      <td>12</td>\n",
       "      <td>16</td>\n",
       "      <td>Male</td>\n",
       "      <td>3</td>\n",
       "    </tr>\n",
       "    <tr>\n",
       "      <th>3</th>\n",
       "      <td>10000004</td>\n",
       "      <td>16,000</td>\n",
       "      <td>&lt; 1 year</td>\n",
       "      <td>NaN</td>\n",
       "      <td>56160.0</td>\n",
       "      <td>VERIFIED - income source</td>\n",
       "      <td>debt_consolidation</td>\n",
       "      <td>14.34</td>\n",
       "      <td>3</td>\n",
       "      <td>NaN</td>\n",
       "      <td>16</td>\n",
       "      <td>22</td>\n",
       "      <td>Male</td>\n",
       "      <td>3</td>\n",
       "    </tr>\n",
       "    <tr>\n",
       "      <th>4</th>\n",
       "      <td>10000005</td>\n",
       "      <td>17,000</td>\n",
       "      <td>8 years</td>\n",
       "      <td>Own</td>\n",
       "      <td>96000.0</td>\n",
       "      <td>VERIFIED - income source</td>\n",
       "      <td>debt_consolidation</td>\n",
       "      <td>22.17</td>\n",
       "      <td>1</td>\n",
       "      <td>NaN</td>\n",
       "      <td>19</td>\n",
       "      <td>30</td>\n",
       "      <td>Female</td>\n",
       "      <td>1</td>\n",
       "    </tr>\n",
       "  </tbody>\n",
       "</table>\n",
       "</div>"
      ],
      "text/plain": [
       "    Loan_ID Loan_Amount_Requested Length_Employed Home_Owner  Annual_Income  \\\n",
       "0  10000001                 7,000        < 1 year       Rent        68000.0   \n",
       "1  10000002                30,000         4 years   Mortgage            NaN   \n",
       "2  10000003                24,725         7 years   Mortgage        75566.4   \n",
       "3  10000004                16,000        < 1 year        NaN        56160.0   \n",
       "4  10000005                17,000         8 years        Own        96000.0   \n",
       "\n",
       "            Income_Verified     Purpose_Of_Loan  Debt_To_Income  \\\n",
       "0              not verified                 car           18.37   \n",
       "1         VERIFIED - income  debt_consolidation           14.93   \n",
       "2  VERIFIED - income source  debt_consolidation           15.88   \n",
       "3  VERIFIED - income source  debt_consolidation           14.34   \n",
       "4  VERIFIED - income source  debt_consolidation           22.17   \n",
       "\n",
       "   Inquiries_Last_6Mo  Months_Since_Deliquency  Number_Open_Accounts  \\\n",
       "0                   0                      NaN                     9   \n",
       "1                   0                     17.0                    12   \n",
       "2                   0                      NaN                    12   \n",
       "3                   3                      NaN                    16   \n",
       "4                   1                      NaN                    19   \n",
       "\n",
       "   Total_Accounts  Gender  Interest_Rate  \n",
       "0              14  Female              1  \n",
       "1              24  Female              3  \n",
       "2              16    Male              3  \n",
       "3              22    Male              3  \n",
       "4              30  Female              1  "
      ]
     },
     "execution_count": 5,
     "metadata": {},
     "output_type": "execute_result"
    }
   ],
   "source": [
    "train.head()"
   ]
  },
  {
   "cell_type": "code",
   "execution_count": 6,
   "id": "29ef31ee",
   "metadata": {},
   "outputs": [
    {
     "data": {
      "text/html": [
       "<div>\n",
       "<style scoped>\n",
       "    .dataframe tbody tr th:only-of-type {\n",
       "        vertical-align: middle;\n",
       "    }\n",
       "\n",
       "    .dataframe tbody tr th {\n",
       "        vertical-align: top;\n",
       "    }\n",
       "\n",
       "    .dataframe thead th {\n",
       "        text-align: right;\n",
       "    }\n",
       "</style>\n",
       "<table border=\"1\" class=\"dataframe\">\n",
       "  <thead>\n",
       "    <tr style=\"text-align: right;\">\n",
       "      <th></th>\n",
       "      <th>Loan_ID</th>\n",
       "      <th>Loan_Amount_Requested</th>\n",
       "      <th>Length_Employed</th>\n",
       "      <th>Home_Owner</th>\n",
       "      <th>Annual_Income</th>\n",
       "      <th>Income_Verified</th>\n",
       "      <th>Purpose_Of_Loan</th>\n",
       "      <th>Debt_To_Income</th>\n",
       "      <th>Inquiries_Last_6Mo</th>\n",
       "      <th>Months_Since_Deliquency</th>\n",
       "      <th>Number_Open_Accounts</th>\n",
       "      <th>Total_Accounts</th>\n",
       "      <th>Gender</th>\n",
       "    </tr>\n",
       "  </thead>\n",
       "  <tbody>\n",
       "    <tr>\n",
       "      <th>0</th>\n",
       "      <td>10164310</td>\n",
       "      <td>27,500</td>\n",
       "      <td>10+ years</td>\n",
       "      <td>Mortgage</td>\n",
       "      <td>129000.0</td>\n",
       "      <td>VERIFIED - income</td>\n",
       "      <td>debt_consolidation</td>\n",
       "      <td>12.87</td>\n",
       "      <td>0</td>\n",
       "      <td>68.0</td>\n",
       "      <td>10</td>\n",
       "      <td>37</td>\n",
       "      <td>Male</td>\n",
       "    </tr>\n",
       "    <tr>\n",
       "      <th>1</th>\n",
       "      <td>10164311</td>\n",
       "      <td>26,000</td>\n",
       "      <td>10+ years</td>\n",
       "      <td>NaN</td>\n",
       "      <td>110000.0</td>\n",
       "      <td>not verified</td>\n",
       "      <td>credit_card</td>\n",
       "      <td>11.37</td>\n",
       "      <td>0</td>\n",
       "      <td>NaN</td>\n",
       "      <td>6</td>\n",
       "      <td>23</td>\n",
       "      <td>Male</td>\n",
       "    </tr>\n",
       "    <tr>\n",
       "      <th>2</th>\n",
       "      <td>10164312</td>\n",
       "      <td>6,075</td>\n",
       "      <td>&lt; 1 year</td>\n",
       "      <td>Rent</td>\n",
       "      <td>75000.0</td>\n",
       "      <td>VERIFIED - income</td>\n",
       "      <td>debt_consolidation</td>\n",
       "      <td>6.83</td>\n",
       "      <td>2</td>\n",
       "      <td>NaN</td>\n",
       "      <td>5</td>\n",
       "      <td>20</td>\n",
       "      <td>Male</td>\n",
       "    </tr>\n",
       "    <tr>\n",
       "      <th>3</th>\n",
       "      <td>10164313</td>\n",
       "      <td>12,000</td>\n",
       "      <td>10+ years</td>\n",
       "      <td>Mortgage</td>\n",
       "      <td>73000.0</td>\n",
       "      <td>VERIFIED - income source</td>\n",
       "      <td>debt_consolidation</td>\n",
       "      <td>7.76</td>\n",
       "      <td>0</td>\n",
       "      <td>NaN</td>\n",
       "      <td>6</td>\n",
       "      <td>8</td>\n",
       "      <td>Male</td>\n",
       "    </tr>\n",
       "    <tr>\n",
       "      <th>4</th>\n",
       "      <td>10164314</td>\n",
       "      <td>35,000</td>\n",
       "      <td>&lt; 1 year</td>\n",
       "      <td>Mortgage</td>\n",
       "      <td>156000.0</td>\n",
       "      <td>not verified</td>\n",
       "      <td>debt_consolidation</td>\n",
       "      <td>9.62</td>\n",
       "      <td>0</td>\n",
       "      <td>26.0</td>\n",
       "      <td>9</td>\n",
       "      <td>21</td>\n",
       "      <td>Male</td>\n",
       "    </tr>\n",
       "  </tbody>\n",
       "</table>\n",
       "</div>"
      ],
      "text/plain": [
       "    Loan_ID Loan_Amount_Requested Length_Employed Home_Owner  Annual_Income  \\\n",
       "0  10164310                27,500       10+ years   Mortgage       129000.0   \n",
       "1  10164311                26,000       10+ years        NaN       110000.0   \n",
       "2  10164312                 6,075        < 1 year       Rent        75000.0   \n",
       "3  10164313                12,000       10+ years   Mortgage        73000.0   \n",
       "4  10164314                35,000        < 1 year   Mortgage       156000.0   \n",
       "\n",
       "            Income_Verified     Purpose_Of_Loan  Debt_To_Income  \\\n",
       "0         VERIFIED - income  debt_consolidation           12.87   \n",
       "1              not verified         credit_card           11.37   \n",
       "2         VERIFIED - income  debt_consolidation            6.83   \n",
       "3  VERIFIED - income source  debt_consolidation            7.76   \n",
       "4              not verified  debt_consolidation            9.62   \n",
       "\n",
       "   Inquiries_Last_6Mo  Months_Since_Deliquency  Number_Open_Accounts  \\\n",
       "0                   0                     68.0                    10   \n",
       "1                   0                      NaN                     6   \n",
       "2                   2                      NaN                     5   \n",
       "3                   0                      NaN                     6   \n",
       "4                   0                     26.0                     9   \n",
       "\n",
       "   Total_Accounts Gender  \n",
       "0              37   Male  \n",
       "1              23   Male  \n",
       "2              20   Male  \n",
       "3               8   Male  \n",
       "4              21   Male  "
      ]
     },
     "execution_count": 6,
     "metadata": {},
     "output_type": "execute_result"
    }
   ],
   "source": [
    "test.head()"
   ]
  },
  {
   "cell_type": "code",
   "execution_count": 7,
   "id": "c34e49fa",
   "metadata": {},
   "outputs": [
    {
     "data": {
      "text/html": [
       "<div>\n",
       "<style scoped>\n",
       "    .dataframe tbody tr th:only-of-type {\n",
       "        vertical-align: middle;\n",
       "    }\n",
       "\n",
       "    .dataframe tbody tr th {\n",
       "        vertical-align: top;\n",
       "    }\n",
       "\n",
       "    .dataframe thead th {\n",
       "        text-align: right;\n",
       "    }\n",
       "</style>\n",
       "<table border=\"1\" class=\"dataframe\">\n",
       "  <thead>\n",
       "    <tr style=\"text-align: right;\">\n",
       "      <th></th>\n",
       "      <th>Loan_ID</th>\n",
       "      <th>Annual_Income</th>\n",
       "      <th>Debt_To_Income</th>\n",
       "      <th>Inquiries_Last_6Mo</th>\n",
       "      <th>Months_Since_Deliquency</th>\n",
       "      <th>Number_Open_Accounts</th>\n",
       "      <th>Total_Accounts</th>\n",
       "      <th>Interest_Rate</th>\n",
       "    </tr>\n",
       "  </thead>\n",
       "  <tbody>\n",
       "    <tr>\n",
       "      <th>count</th>\n",
       "      <td>1.643090e+05</td>\n",
       "      <td>1.392070e+05</td>\n",
       "      <td>164309.000000</td>\n",
       "      <td>164309.000000</td>\n",
       "      <td>75930.000000</td>\n",
       "      <td>164309.000000</td>\n",
       "      <td>164309.000000</td>\n",
       "      <td>164309.000000</td>\n",
       "    </tr>\n",
       "    <tr>\n",
       "      <th>mean</th>\n",
       "      <td>1.008216e+07</td>\n",
       "      <td>7.333116e+04</td>\n",
       "      <td>17.207189</td>\n",
       "      <td>0.781698</td>\n",
       "      <td>34.229356</td>\n",
       "      <td>11.193818</td>\n",
       "      <td>25.067665</td>\n",
       "      <td>2.158951</td>\n",
       "    </tr>\n",
       "    <tr>\n",
       "      <th>std</th>\n",
       "      <td>4.743207e+04</td>\n",
       "      <td>6.037750e+04</td>\n",
       "      <td>7.845083</td>\n",
       "      <td>1.034747</td>\n",
       "      <td>21.761180</td>\n",
       "      <td>4.991813</td>\n",
       "      <td>11.583067</td>\n",
       "      <td>0.738364</td>\n",
       "    </tr>\n",
       "    <tr>\n",
       "      <th>min</th>\n",
       "      <td>1.000000e+07</td>\n",
       "      <td>4.000000e+03</td>\n",
       "      <td>0.000000</td>\n",
       "      <td>0.000000</td>\n",
       "      <td>0.000000</td>\n",
       "      <td>0.000000</td>\n",
       "      <td>2.000000</td>\n",
       "      <td>1.000000</td>\n",
       "    </tr>\n",
       "    <tr>\n",
       "      <th>25%</th>\n",
       "      <td>1.004108e+07</td>\n",
       "      <td>4.500000e+04</td>\n",
       "      <td>11.370000</td>\n",
       "      <td>0.000000</td>\n",
       "      <td>16.000000</td>\n",
       "      <td>8.000000</td>\n",
       "      <td>17.000000</td>\n",
       "      <td>2.000000</td>\n",
       "    </tr>\n",
       "    <tr>\n",
       "      <th>50%</th>\n",
       "      <td>1.008216e+07</td>\n",
       "      <td>6.300000e+04</td>\n",
       "      <td>16.840000</td>\n",
       "      <td>0.000000</td>\n",
       "      <td>31.000000</td>\n",
       "      <td>10.000000</td>\n",
       "      <td>23.000000</td>\n",
       "      <td>2.000000</td>\n",
       "    </tr>\n",
       "    <tr>\n",
       "      <th>75%</th>\n",
       "      <td>1.012323e+07</td>\n",
       "      <td>8.869750e+04</td>\n",
       "      <td>22.780000</td>\n",
       "      <td>1.000000</td>\n",
       "      <td>50.000000</td>\n",
       "      <td>14.000000</td>\n",
       "      <td>32.000000</td>\n",
       "      <td>3.000000</td>\n",
       "    </tr>\n",
       "    <tr>\n",
       "      <th>max</th>\n",
       "      <td>1.016431e+07</td>\n",
       "      <td>7.500000e+06</td>\n",
       "      <td>39.990000</td>\n",
       "      <td>8.000000</td>\n",
       "      <td>180.000000</td>\n",
       "      <td>76.000000</td>\n",
       "      <td>156.000000</td>\n",
       "      <td>3.000000</td>\n",
       "    </tr>\n",
       "  </tbody>\n",
       "</table>\n",
       "</div>"
      ],
      "text/plain": [
       "            Loan_ID  Annual_Income  Debt_To_Income  Inquiries_Last_6Mo  \\\n",
       "count  1.643090e+05   1.392070e+05   164309.000000       164309.000000   \n",
       "mean   1.008216e+07   7.333116e+04       17.207189            0.781698   \n",
       "std    4.743207e+04   6.037750e+04        7.845083            1.034747   \n",
       "min    1.000000e+07   4.000000e+03        0.000000            0.000000   \n",
       "25%    1.004108e+07   4.500000e+04       11.370000            0.000000   \n",
       "50%    1.008216e+07   6.300000e+04       16.840000            0.000000   \n",
       "75%    1.012323e+07   8.869750e+04       22.780000            1.000000   \n",
       "max    1.016431e+07   7.500000e+06       39.990000            8.000000   \n",
       "\n",
       "       Months_Since_Deliquency  Number_Open_Accounts  Total_Accounts  \\\n",
       "count             75930.000000         164309.000000   164309.000000   \n",
       "mean                 34.229356             11.193818       25.067665   \n",
       "std                  21.761180              4.991813       11.583067   \n",
       "min                   0.000000              0.000000        2.000000   \n",
       "25%                  16.000000              8.000000       17.000000   \n",
       "50%                  31.000000             10.000000       23.000000   \n",
       "75%                  50.000000             14.000000       32.000000   \n",
       "max                 180.000000             76.000000      156.000000   \n",
       "\n",
       "       Interest_Rate  \n",
       "count  164309.000000  \n",
       "mean        2.158951  \n",
       "std         0.738364  \n",
       "min         1.000000  \n",
       "25%         2.000000  \n",
       "50%         2.000000  \n",
       "75%         3.000000  \n",
       "max         3.000000  "
      ]
     },
     "execution_count": 7,
     "metadata": {},
     "output_type": "execute_result"
    }
   ],
   "source": [
    "train.describe()"
   ]
  },
  {
   "cell_type": "code",
   "execution_count": 8,
   "id": "00def923",
   "metadata": {},
   "outputs": [
    {
     "data": {
      "text/html": [
       "<div>\n",
       "<style scoped>\n",
       "    .dataframe tbody tr th:only-of-type {\n",
       "        vertical-align: middle;\n",
       "    }\n",
       "\n",
       "    .dataframe tbody tr th {\n",
       "        vertical-align: top;\n",
       "    }\n",
       "\n",
       "    .dataframe thead th {\n",
       "        text-align: right;\n",
       "    }\n",
       "</style>\n",
       "<table border=\"1\" class=\"dataframe\">\n",
       "  <thead>\n",
       "    <tr style=\"text-align: right;\">\n",
       "      <th></th>\n",
       "      <th>Loan_ID</th>\n",
       "      <th>Annual_Income</th>\n",
       "      <th>Debt_To_Income</th>\n",
       "      <th>Inquiries_Last_6Mo</th>\n",
       "      <th>Months_Since_Deliquency</th>\n",
       "      <th>Number_Open_Accounts</th>\n",
       "      <th>Total_Accounts</th>\n",
       "    </tr>\n",
       "  </thead>\n",
       "  <tbody>\n",
       "    <tr>\n",
       "      <th>count</th>\n",
       "      <td>1.095410e+05</td>\n",
       "      <td>9.264300e+04</td>\n",
       "      <td>109541.000000</td>\n",
       "      <td>109541.000000</td>\n",
       "      <td>50682.000000</td>\n",
       "      <td>109541.000000</td>\n",
       "      <td>109541.000000</td>\n",
       "    </tr>\n",
       "    <tr>\n",
       "      <th>mean</th>\n",
       "      <td>1.021908e+07</td>\n",
       "      <td>7.348541e+04</td>\n",
       "      <td>17.228969</td>\n",
       "      <td>0.788810</td>\n",
       "      <td>33.914684</td>\n",
       "      <td>11.174337</td>\n",
       "      <td>25.068440</td>\n",
       "    </tr>\n",
       "    <tr>\n",
       "      <th>std</th>\n",
       "      <td>3.162191e+04</td>\n",
       "      <td>5.563845e+04</td>\n",
       "      <td>7.847310</td>\n",
       "      <td>1.039903</td>\n",
       "      <td>21.732856</td>\n",
       "      <td>4.946314</td>\n",
       "      <td>11.599639</td>\n",
       "    </tr>\n",
       "    <tr>\n",
       "      <th>min</th>\n",
       "      <td>1.016431e+07</td>\n",
       "      <td>3.000000e+03</td>\n",
       "      <td>0.000000</td>\n",
       "      <td>0.000000</td>\n",
       "      <td>0.000000</td>\n",
       "      <td>0.000000</td>\n",
       "      <td>2.000000</td>\n",
       "    </tr>\n",
       "    <tr>\n",
       "      <th>25%</th>\n",
       "      <td>1.019170e+07</td>\n",
       "      <td>4.500000e+04</td>\n",
       "      <td>11.350000</td>\n",
       "      <td>0.000000</td>\n",
       "      <td>15.000000</td>\n",
       "      <td>8.000000</td>\n",
       "      <td>17.000000</td>\n",
       "    </tr>\n",
       "    <tr>\n",
       "      <th>50%</th>\n",
       "      <td>1.021908e+07</td>\n",
       "      <td>6.300000e+04</td>\n",
       "      <td>16.860000</td>\n",
       "      <td>0.000000</td>\n",
       "      <td>31.000000</td>\n",
       "      <td>10.000000</td>\n",
       "      <td>24.000000</td>\n",
       "    </tr>\n",
       "    <tr>\n",
       "      <th>75%</th>\n",
       "      <td>1.024646e+07</td>\n",
       "      <td>8.900000e+04</td>\n",
       "      <td>22.780000</td>\n",
       "      <td>1.000000</td>\n",
       "      <td>49.000000</td>\n",
       "      <td>14.000000</td>\n",
       "      <td>32.000000</td>\n",
       "    </tr>\n",
       "    <tr>\n",
       "      <th>max</th>\n",
       "      <td>1.027385e+07</td>\n",
       "      <td>7.446395e+06</td>\n",
       "      <td>39.990000</td>\n",
       "      <td>8.000000</td>\n",
       "      <td>149.000000</td>\n",
       "      <td>84.000000</td>\n",
       "      <td>124.000000</td>\n",
       "    </tr>\n",
       "  </tbody>\n",
       "</table>\n",
       "</div>"
      ],
      "text/plain": [
       "            Loan_ID  Annual_Income  Debt_To_Income  Inquiries_Last_6Mo  \\\n",
       "count  1.095410e+05   9.264300e+04   109541.000000       109541.000000   \n",
       "mean   1.021908e+07   7.348541e+04       17.228969            0.788810   \n",
       "std    3.162191e+04   5.563845e+04        7.847310            1.039903   \n",
       "min    1.016431e+07   3.000000e+03        0.000000            0.000000   \n",
       "25%    1.019170e+07   4.500000e+04       11.350000            0.000000   \n",
       "50%    1.021908e+07   6.300000e+04       16.860000            0.000000   \n",
       "75%    1.024646e+07   8.900000e+04       22.780000            1.000000   \n",
       "max    1.027385e+07   7.446395e+06       39.990000            8.000000   \n",
       "\n",
       "       Months_Since_Deliquency  Number_Open_Accounts  Total_Accounts  \n",
       "count             50682.000000         109541.000000   109541.000000  \n",
       "mean                 33.914684             11.174337       25.068440  \n",
       "std                  21.732856              4.946314       11.599639  \n",
       "min                   0.000000              0.000000        2.000000  \n",
       "25%                  15.000000              8.000000       17.000000  \n",
       "50%                  31.000000             10.000000       24.000000  \n",
       "75%                  49.000000             14.000000       32.000000  \n",
       "max                 149.000000             84.000000      124.000000  "
      ]
     },
     "execution_count": 8,
     "metadata": {},
     "output_type": "execute_result"
    }
   ],
   "source": [
    "test.describe()"
   ]
  },
  {
   "cell_type": "code",
   "execution_count": 9,
   "id": "4a86fe84",
   "metadata": {},
   "outputs": [
    {
     "name": "stderr",
     "output_type": "stream",
     "text": [
      "C:\\Users\\admin\\anaconda3\\lib\\site-packages\\seaborn\\distributions.py:2619: FutureWarning: `distplot` is a deprecated function and will be removed in a future version. Please adapt your code to use either `displot` (a figure-level function with similar flexibility) or `histplot` (an axes-level function for histograms).\n",
      "  warnings.warn(msg, FutureWarning)\n"
     ]
    },
    {
     "data": {
      "text/plain": [
       "<AxesSubplot:xlabel='Length_Employed', ylabel='Density'>"
      ]
     },
     "execution_count": 9,
     "metadata": {},
     "output_type": "execute_result"
    },
    {
     "data": {
      "image/png": "[encoded data removed]",
      "text/plain": [
       "<Figure size 432x288 with 1 Axes>"
      ]
     },
     "metadata": {
      "needs_background": "light"
     },
     "output_type": "display_data"
    }
   ],
   "source": [
    "# employee lenght\n",
    "\n",
    "df['Length_Employed'].replace({'< 1 year' : '0','1 year': '1','10+ years' : '10'}, inplace = True)\n",
    "df['Length_Employed'] = df['Length_Employed'].str.replace('years','')\n",
    "\n",
    "df['Length_Employed'].fillna(-1, inplace = True)\n",
    "df['Length_Employed'] = df['Length_Employed'].astype(int)\n",
    "\n",
    "df['Length_Employed'].value_counts()\n",
    "sns.distplot(df['Length_Employed'])"
   ]
  },
  {
   "cell_type": "code",
   "execution_count": 10,
   "id": "fbd8c657",
   "metadata": {},
   "outputs": [
    {
     "name": "stderr",
     "output_type": "stream",
     "text": [
      "C:\\Users\\admin\\anaconda3\\lib\\site-packages\\seaborn\\_decorators.py:36: FutureWarning: Pass the following variable as a keyword arg: x. From version 0.12, the only valid positional argument will be `data`, and passing other arguments without an explicit keyword will result in an error or misinterpretation.\n",
      "  warnings.warn(\n"
     ]
    },
    {
     "data": {
      "text/plain": [
       "<AxesSubplot:xlabel='Home_Owner', ylabel='count'>"
      ]
     },
     "execution_count": 10,
     "metadata": {},
     "output_type": "execute_result"
    },
    {
     "data": {
      "image/png": "[encoded data removed]",
      "text/plain": [
       "<Figure size 432x288 with 1 Axes>"
      ]
     },
     "metadata": {
      "needs_background": "light"
     },
     "output_type": "display_data"
    }
   ],
   "source": [
    "# HOme owned\n",
    "\n",
    "df.Home_Owner  = df.Home_Owner.map(lambda x : 3 if x == 'Own' else 2 if x == 'Mortgage'\n",
    "                                   else 1 if x == 'Rent' else   -1)\n",
    "sns.countplot(df.Home_Owner)"
   ]
  },
  {
   "cell_type": "code",
   "execution_count": 11,
   "id": "232caead",
   "metadata": {},
   "outputs": [
    {
     "name": "stderr",
     "output_type": "stream",
     "text": [
      "C:\\Users\\admin\\anaconda3\\lib\\site-packages\\seaborn\\distributions.py:2619: FutureWarning: `distplot` is a deprecated function and will be removed in a future version. Please adapt your code to use either `displot` (a figure-level function with similar flexibility) or `histplot` (an axes-level function for histograms).\n",
      "  warnings.warn(msg, FutureWarning)\n"
     ]
    },
    {
     "data": {
      "text/plain": [
       "<AxesSubplot:xlabel='Loan_Amount_Requested', ylabel='Density'>"
      ]
     },
     "execution_count": 11,
     "metadata": {},
     "output_type": "execute_result"
    },
    {
     "data": {
      "image/png": "[encoded data removed]",
      "text/plain": [
       "<Figure size 432x288 with 1 Axes>"
      ]
     },
     "metadata": {
      "needs_background": "light"
     },
     "output_type": "display_data"
    }
   ],
   "source": [
    "# loan amount\n",
    "df.Loan_Amount_Requested = df.Loan_Amount_Requested.str.replace(',','').astype(int)\n",
    "sns.distplot(df.Loan_Amount_Requested)"
   ]
  },
  {
   "cell_type": "code",
   "execution_count": 12,
   "id": "44763cf6",
   "metadata": {},
   "outputs": [
    {
     "name": "stderr",
     "output_type": "stream",
     "text": [
      "C:\\Users\\admin\\anaconda3\\lib\\site-packages\\seaborn\\distributions.py:2619: FutureWarning: `distplot` is a deprecated function and will be removed in a future version. Please adapt your code to use either `displot` (a figure-level function with similar flexibility) or `histplot` (an axes-level function for histograms).\n",
      "  warnings.warn(msg, FutureWarning)\n"
     ]
    },
    {
     "data": {
      "text/plain": [
       "<AxesSubplot:xlabel='Loan_Amount_Requested', ylabel='Density'>"
      ]
     },
     "execution_count": 12,
     "metadata": {},
     "output_type": "execute_result"
    },
    {
     "data": {
      "image/png": "[encoded data removed]",
      "text/plain": [
       "<Figure size 432x288 with 1 Axes>"
      ]
     },
     "metadata": {
      "needs_background": "light"
     },
     "output_type": "display_data"
    }
   ],
   "source": [
    "feature_normal = np.log(df.Loan_Amount_Requested)\n",
    "sns.distplot(df.Loan_Amount_Requested)"
   ]
  },
  {
   "cell_type": "code",
   "execution_count": 13,
   "id": "1c96f871",
   "metadata": {},
   "outputs": [
    {
     "name": "stderr",
     "output_type": "stream",
     "text": [
      "C:\\Users\\admin\\anaconda3\\lib\\site-packages\\seaborn\\_decorators.py:36: FutureWarning: Pass the following variable as a keyword arg: x. From version 0.12, the only valid positional argument will be `data`, and passing other arguments without an explicit keyword will result in an error or misinterpretation.\n",
      "  warnings.warn(\n"
     ]
    },
    {
     "data": {
      "image/png": "[encoded data removed]",
      "text/plain": [
       "<Figure size 432x288 with 1 Axes>"
      ]
     },
     "metadata": {
      "needs_background": "light"
     },
     "output_type": "display_data"
    }
   ],
   "source": [
    "# income verified\n",
    "\n",
    "sns.countplot(df.Income_Verified)\n",
    "df.Income_Verified = df.Income_Verified.map(lambda x : 0 if x == 'not verified'\n",
    "                                                else 3 if x == 'VERIFIED - income' else 2)\n"
   ]
  },
  {
   "cell_type": "code",
   "execution_count": 14,
   "id": "f6d1d6a8",
   "metadata": {},
   "outputs": [
    {
     "name": "stderr",
     "output_type": "stream",
     "text": [
      "C:\\Users\\admin\\anaconda3\\lib\\site-packages\\seaborn\\_decorators.py:36: FutureWarning: Pass the following variable as a keyword arg: x. From version 0.12, the only valid positional argument will be `data`, and passing other arguments without an explicit keyword will result in an error or misinterpretation.\n",
      "  warnings.warn(\n"
     ]
    },
    {
     "data": {
      "text/plain": [
       "0        -1\n",
       "1         5\n",
       "2         5\n",
       "3         5\n",
       "4         5\n",
       "         ..\n",
       "109536    2\n",
       "109537    4\n",
       "109538    4\n",
       "109539    2\n",
       "109540   -1\n",
       "Name: Purpose_Of_Loan, Length: 273850, dtype: int32"
      ]
     },
     "execution_count": 14,
     "metadata": {},
     "output_type": "execute_result"
    },
    {
     "data": {
      "image/png": "[encoded data removed]",
      "text/plain": [
       "<Figure size 432x288 with 1 Axes>"
      ]
     },
     "metadata": {
      "needs_background": "light"
     },
     "output_type": "display_data"
    },
    {
     "data": {
      "image/png": "[encoded data removed]",
      "text/plain": [
       "<Figure size 432x288 with 1 Axes>"
      ]
     },
     "metadata": {
      "needs_background": "light"
     },
     "output_type": "display_data"
    }
   ],
   "source": [
    "# Purpose\n",
    "sns.countplot(df.Purpose_Of_Loan)\n",
    "df.Purpose_Of_Loan.value_counts()\n",
    "pd.crosstab(df.Purpose_Of_Loan, df.Interest_Rate).plot.bar()\n",
    "\n",
    "df.Purpose_Of_Loan = df.Purpose_Of_Loan.map(lambda x : 5 if x == 'debt_consolidation'\n",
    "                                            else 4 if x == 'credit_card'\n",
    "                                            else 3 if x == 'home_improvement'\n",
    "                                            else 2 if x == 'other'\n",
    "                                            else -1)\n",
    "df.Purpose_Of_Loan.astype(int)"
   ]
  },
  {
   "cell_type": "code",
   "execution_count": 15,
   "id": "bdeeba74",
   "metadata": {},
   "outputs": [
    {
     "name": "stderr",
     "output_type": "stream",
     "text": [
      "C:\\Users\\admin\\anaconda3\\lib\\site-packages\\seaborn\\distributions.py:2619: FutureWarning: `distplot` is a deprecated function and will be removed in a future version. Please adapt your code to use either `displot` (a figure-level function with similar flexibility) or `histplot` (an axes-level function for histograms).\n",
      "  warnings.warn(msg, FutureWarning)\n"
     ]
    },
    {
     "data": {
      "text/plain": [
       "<AxesSubplot:xlabel='Debt_To_Income', ylabel='Density'>"
      ]
     },
     "execution_count": 15,
     "metadata": {},
     "output_type": "execute_result"
    },
    {
     "data": {
      "image/png": "[encoded data removed]",
      "text/plain": [
       "<Figure size 432x288 with 1 Axes>"
      ]
     },
     "metadata": {
      "needs_background": "light"
     },
     "output_type": "display_data"
    }
   ],
   "source": [
    "# debt is already normaly distributed\n",
    "\n",
    "df.Debt_To_Income.describe()\n",
    "\n",
    "sns.distplot(df.Debt_To_Income)"
   ]
  },
  {
   "cell_type": "code",
   "execution_count": 16,
   "id": "530a38da",
   "metadata": {},
   "outputs": [
    {
     "name": "stderr",
     "output_type": "stream",
     "text": [
      "C:\\Users\\admin\\anaconda3\\lib\\site-packages\\seaborn\\_decorators.py:36: FutureWarning: Pass the following variable as a keyword arg: x. From version 0.12, the only valid positional argument will be `data`, and passing other arguments without an explicit keyword will result in an error or misinterpretation.\n",
      "  warnings.warn(\n"
     ]
    },
    {
     "data": {
      "text/plain": [
       "<AxesSubplot:xlabel='Inquiries_Last_6Mo', ylabel='count'>"
      ]
     },
     "execution_count": 16,
     "metadata": {},
     "output_type": "execute_result"
    },
    {
     "data": {
      "image/png": "[encoded data removed]",
      "text/plain": [
       "<Figure size 432x288 with 1 Axes>"
      ]
     },
     "metadata": {
      "needs_background": "light"
     },
     "output_type": "display_data"
    }
   ],
   "source": [
    "# Inquiries_Last_6Mo\n",
    "df.Inquiries_Last_6Mo.value_counts()\n",
    "\n",
    "df.Inquiries_Last_6Mo = df.Inquiries_Last_6Mo.map(lambda x : 3 if x >= 3 else x)\n",
    "sns.countplot(df.Inquiries_Last_6Mo)"
   ]
  },
  {
   "cell_type": "code",
   "execution_count": 17,
   "id": "0e711baa",
   "metadata": {},
   "outputs": [
    {
     "name": "stderr",
     "output_type": "stream",
     "text": [
      "C:\\Users\\admin\\anaconda3\\lib\\site-packages\\seaborn\\distributions.py:2619: FutureWarning: `distplot` is a deprecated function and will be removed in a future version. Please adapt your code to use either `displot` (a figure-level function with similar flexibility) or `histplot` (an axes-level function for histograms).\n",
      "  warnings.warn(msg, FutureWarning)\n"
     ]
    },
    {
     "data": {
      "text/plain": [
       "count    126612.000000\n",
       "mean         34.103395\n",
       "std          21.750307\n",
       "min           0.000000\n",
       "25%          16.000000\n",
       "50%          31.000000\n",
       "75%          49.000000\n",
       "max         180.000000\n",
       "Name: Months_Since_Deliquency, dtype: float64"
      ]
     },
     "execution_count": 17,
     "metadata": {},
     "output_type": "execute_result"
    },
    {
     "data": {
      "image/png": "[encoded data removed]",
      "text/plain": [
       "<Figure size 432x288 with 1 Axes>"
      ]
     },
     "metadata": {
      "needs_background": "light"
     },
     "output_type": "display_data"
    }
   ],
   "source": [
    "#Months_Since_Deliquency\n",
    "\n",
    "sns.distplot(df.Months_Since_Deliquency)\n",
    "\n",
    "df.Months_Since_Deliquency.describe()"
   ]
  },
  {
   "cell_type": "code",
   "execution_count": 18,
   "id": "c1e4bf51",
   "metadata": {},
   "outputs": [
    {
     "data": {
      "text/plain": [
       "(-33.5, 98.5)"
      ]
     },
     "execution_count": 18,
     "metadata": {},
     "output_type": "execute_result"
    }
   ],
   "source": [
    "# Inter quantile range is used for finding Qutliers\n",
    "def IQR(df,variable,distance):\n",
    "    IQR = df[variable].quantile(0.75) - df[variable].quantile(0.25)\n",
    "    upper = df[variable].quantile(0.75) + (IQR*distance)\n",
    "    lower = df[variable].quantile(0.25) - (IQR*distance)\n",
    "    return lower, upper\n",
    " \n",
    "IQR(df, 'Months_Since_Deliquency',1.5)"
   ]
  },
  {
   "cell_type": "code",
   "execution_count": 19,
   "id": "1d9f0217",
   "metadata": {},
   "outputs": [
    {
     "name": "stderr",
     "output_type": "stream",
     "text": [
      "C:\\Users\\admin\\anaconda3\\lib\\site-packages\\seaborn\\distributions.py:2619: FutureWarning: `distplot` is a deprecated function and will be removed in a future version. Please adapt your code to use either `displot` (a figure-level function with similar flexibility) or `histplot` (an axes-level function for histograms).\n",
      "  warnings.warn(msg, FutureWarning)\n"
     ]
    },
    {
     "data": {
      "image/png": "[encoded data removed]",
      "text/plain": [
       "<Figure size 432x288 with 1 Axes>"
      ]
     },
     "metadata": {
      "needs_background": "light"
     },
     "output_type": "display_data"
    }
   ],
   "source": [
    "#\n",
    "df.Months_Since_Deliquency = df.Months_Since_Deliquency.map(lambda x : 95 if x > 95 else x)\n",
    "sns.distplot(df.Months_Since_Deliquency)\n",
    "\n",
    "df.Months_Since_Deliquency.fillna(0, inplace = True)"
   ]
  },
  {
   "cell_type": "code",
   "execution_count": 20,
   "id": "0d57c560",
   "metadata": {},
   "outputs": [
    {
     "name": "stderr",
     "output_type": "stream",
     "text": [
      "C:\\Users\\admin\\anaconda3\\lib\\site-packages\\pandas\\core\\arraylike.py:397: RuntimeWarning: divide by zero encountered in log\n",
      "  result = getattr(ufunc, method)(*inputs, **kwargs)\n"
     ]
    }
   ],
   "source": [
    "# Using cuberoot transformation\n",
    "df.Months_Since_Deliquency = np.log(df.Months_Since_Deliquency)\n"
   ]
  },
  {
   "cell_type": "code",
   "execution_count": 21,
   "id": "e4e36ba4",
   "metadata": {},
   "outputs": [
    {
     "name": "stderr",
     "output_type": "stream",
     "text": [
      "C:\\Users\\admin\\anaconda3\\lib\\site-packages\\seaborn\\distributions.py:2619: FutureWarning: `distplot` is a deprecated function and will be removed in a future version. Please adapt your code to use either `displot` (a figure-level function with similar flexibility) or `histplot` (an axes-level function for histograms).\n",
      "  warnings.warn(msg, FutureWarning)\n"
     ]
    },
    {
     "data": {
      "image/png": "[encoded data removed]",
      "text/plain": [
       "<Figure size 432x288 with 1 Axes>"
      ]
     },
     "metadata": {
      "needs_background": "light"
     },
     "output_type": "display_data"
    }
   ],
   "source": [
    "#Total_Accounts\n",
    "sns.distplot(df.Total_Accounts)\n",
    "df.Total_Accounts.describe()\n",
    "\n",
    "IQR(df, 'Total_Accounts', 1.5)\n",
    "\n",
    "df.Total_Accounts= df.Total_Accounts.map(lambda x : 58 if x > 58 else x)\n",
    "\n",
    "df.Total_Accounts =np.sqrt(df.Total_Accounts)\n",
    "\n",
    "# Here I used IQR function to find uper and lower bounds and bined with upper percentile.\n",
    "# Further squareroot transform is used for decreasing skewness"
   ]
  },
  {
   "cell_type": "code",
   "execution_count": 22,
   "id": "5afc6eed",
   "metadata": {},
   "outputs": [
    {
     "name": "stderr",
     "output_type": "stream",
     "text": [
      "C:\\Users\\admin\\anaconda3\\lib\\site-packages\\seaborn\\distributions.py:2619: FutureWarning: `distplot` is a deprecated function and will be removed in a future version. Please adapt your code to use either `displot` (a figure-level function with similar flexibility) or `histplot` (an axes-level function for histograms).\n",
      "  warnings.warn(msg, FutureWarning)\n"
     ]
    },
    {
     "data": {
      "image/png": "[encoded data removed]",
      "text/plain": [
       "<Figure size 432x288 with 1 Axes>"
      ]
     },
     "metadata": {
      "needs_background": "light"
     },
     "output_type": "display_data"
    }
   ],
   "source": [
    "#Number_Open_Accounts\n",
    "\n",
    "sns.distplot(df.Number_Open_Accounts)\n",
    "\n",
    "IQR(df,'Number_Open_Accounts', 1.5)\n",
    "df.Number_Open_Accounts = df.Number_Open_Accounts.map(lambda x : 25 if x > 25 else x)"
   ]
  },
  {
   "cell_type": "code",
   "execution_count": 23,
   "id": "75851999",
   "metadata": {},
   "outputs": [
    {
     "name": "stderr",
     "output_type": "stream",
     "text": [
      "C:\\Users\\admin\\anaconda3\\lib\\site-packages\\seaborn\\distributions.py:2619: FutureWarning: `distplot` is a deprecated function and will be removed in a future version. Please adapt your code to use either `displot` (a figure-level function with similar flexibility) or `histplot` (an axes-level function for histograms).\n",
      "  warnings.warn(msg, FutureWarning)\n"
     ]
    },
    {
     "data": {
      "text/plain": [
       "<AxesSubplot:xlabel='Number_Open_Accounts', ylabel='Density'>"
      ]
     },
     "execution_count": 23,
     "metadata": {},
     "output_type": "execute_result"
    },
    {
     "data": {
      "image/png": "[encoded data removed]",
      "text/plain": [
       "<Figure size 432x288 with 1 Axes>"
      ]
     },
     "metadata": {
      "needs_background": "light"
     },
     "output_type": "display_data"
    }
   ],
   "source": [
    "# after squareroot transformation\n",
    "\n",
    "df.Number_Open_Accounts = np.sqrt(df.Number_Open_Accounts)\n",
    "sns.distplot(df.Number_Open_Accounts)"
   ]
  },
  {
   "cell_type": "code",
   "execution_count": 24,
   "id": "ecf74353",
   "metadata": {},
   "outputs": [
    {
     "name": "stderr",
     "output_type": "stream",
     "text": [
      "C:\\Users\\admin\\anaconda3\\lib\\site-packages\\seaborn\\distributions.py:2619: FutureWarning: `distplot` is a deprecated function and will be removed in a future version. Please adapt your code to use either `displot` (a figure-level function with similar flexibility) or `histplot` (an axes-level function for histograms).\n",
      "  warnings.warn(msg, FutureWarning)\n"
     ]
    },
    {
     "data": {
      "text/plain": [
       "<AxesSubplot:xlabel='closed_accounts', ylabel='Density'>"
      ]
     },
     "execution_count": 24,
     "metadata": {},
     "output_type": "execute_result"
    },
    {
     "data": {
      "image/png": "[encoded data removed]",
      "text/plain": [
       "<Figure size 432x288 with 1 Axes>"
      ]
     },
     "metadata": {
      "needs_background": "light"
     },
     "output_type": "display_data"
    }
   ],
   "source": [
    "# Closed account a new variable. Created by the difference of total and open accounts\n",
    "\n",
    "df['closed_accounts']= df['Total_Accounts'] - df['Number_Open_Accounts']\n",
    "\n",
    "IQR(df, 'closed_accounts', 1.5)\n",
    "\n",
    "\n",
    "df.closed_accounts.describe()\n",
    "\n",
    "sns.distplot(df.closed_accounts)"
   ]
  },
  {
   "cell_type": "code",
   "execution_count": 25,
   "id": "7b836a1f",
   "metadata": {},
   "outputs": [],
   "source": [
    "# gender \n",
    "\n",
    "df.Gender.replace({'Female' : 1, 'Male' : 0}, inplace = True)"
   ]
  },
  {
   "cell_type": "code",
   "execution_count": 26,
   "id": "9cce5e0d",
   "metadata": {},
   "outputs": [],
   "source": [
    "# Annual_Income\n",
    "# first removing outliers qith help of IQR\n",
    "\n",
    "df.Annual_Income.describe().apply(lambda x: format(x, 'f'))\n",
    "df.Annual_Income.median()\n",
    "IQR(df,'Annual_Income', 1.5)\n",
    "\n",
    "df.Annual_Income.describe()\n",
    "\n",
    "df.Annual_Income = df.Annual_Income.map(lambda x :155000 if x >155000 else x)"
   ]
  },
  {
   "cell_type": "code",
   "execution_count": 27,
   "id": "b76e18fc",
   "metadata": {},
   "outputs": [
    {
     "name": "stderr",
     "output_type": "stream",
     "text": [
      "C:\\Users\\admin\\anaconda3\\lib\\site-packages\\seaborn\\distributions.py:2619: FutureWarning: `distplot` is a deprecated function and will be removed in a future version. Please adapt your code to use either `displot` (a figure-level function with similar flexibility) or `histplot` (an axes-level function for histograms).\n",
      "  warnings.warn(msg, FutureWarning)\n"
     ]
    },
    {
     "data": {
      "text/plain": [
       "<AxesSubplot:xlabel='Annual_Income', ylabel='Density'>"
      ]
     },
     "execution_count": 27,
     "metadata": {},
     "output_type": "execute_result"
    },
    {
     "data": {
      "image/png": "[encoded data removed]",
      "text/plain": [
       "<Figure size 432x288 with 1 Axes>"
      ]
     },
     "metadata": {
      "needs_background": "light"
     },
     "output_type": "display_data"
    }
   ],
   "source": [
    "# Filling null values with the help of correlated vriable total_accounts\n",
    "df.Annual_Income = df.groupby('Total_Accounts')['Annual_Income'].transform(lambda x: x.fillna(x.mean()))\n",
    "sns.distplot(df.Annual_Income)"
   ]
  },
  {
   "cell_type": "code",
   "execution_count": 28,
   "id": "b5f216a8",
   "metadata": {},
   "outputs": [
    {
     "name": "stderr",
     "output_type": "stream",
     "text": [
      "C:\\Users\\admin\\anaconda3\\lib\\site-packages\\seaborn\\distributions.py:2619: FutureWarning: `distplot` is a deprecated function and will be removed in a future version. Please adapt your code to use either `displot` (a figure-level function with similar flexibility) or `histplot` (an axes-level function for histograms).\n",
      "  warnings.warn(msg, FutureWarning)\n"
     ]
    },
    {
     "data": {
      "text/plain": [
       "<AxesSubplot:xlabel='Annual_Income', ylabel='Density'>"
      ]
     },
     "execution_count": 28,
     "metadata": {},
     "output_type": "execute_result"
    },
    {
     "data": {
      "image/png": "[encoded data removed]",
      "text/plain": [
       "<Figure size 432x288 with 1 Axes>"
      ]
     },
     "metadata": {
      "needs_background": "light"
     },
     "output_type": "display_data"
    }
   ],
   "source": [
    "# For skeweness\n",
    "df.Annual_Income = np.cbrt(df.Annual_Income)\n",
    "sns.distplot(df.Annual_Income)"
   ]
  },
  {
   "cell_type": "code",
   "execution_count": 29,
   "id": "77ecf310",
   "metadata": {},
   "outputs": [],
   "source": [
    "# DRoping Gender column because of no relation\n",
    "df = df.drop(['Loan_ID','Gender'], axis = 1)"
   ]
  },
  {
   "cell_type": "code",
   "execution_count": 30,
   "id": "123094bb",
   "metadata": {},
   "outputs": [],
   "source": [
    "training = df.iloc[:len(train),:]\n",
    "testing = df.iloc[len(train):, : ]\n",
    "testing = testing.drop('Interest_Rate', axis = 1)"
   ]
  },
  {
   "cell_type": "code",
   "execution_count": 37,
   "id": "239b3fe4",
   "metadata": {},
   "outputs": [],
   "source": [
    "# X,y variables\n",
    "\n",
    "x = training.drop('Interest_Rate', axis = 1)\n",
    "y = training['Interest_Rate']"
   ]
  },
  {
   "cell_type": "code",
   "execution_count": 50,
   "id": "01ad2450",
   "metadata": {},
   "outputs": [],
   "source": [
    "from sklearn.model_selection import train_test_split\n",
    "from sklearn.metrics import accuracy_score, classification_report, f1_score\n",
    "\n",
    "\n",
    "# creating dataset split for prediction\n",
    "x_train, x_val, y_train, y_val = train_test_split(x,y, test_size = 0.2, random_state = 5) # also see stratify\n"
   ]
  },
  {
   "cell_type": "code",
   "execution_count": 46,
   "id": "2572d4ea",
   "metadata": {},
   "outputs": [
    {
     "name": "stderr",
     "output_type": "stream",
     "text": [
      "C:\\Users\\admin\\anaconda3\\lib\\site-packages\\seaborn\\_decorators.py:36: FutureWarning: Pass the following variable as a keyword arg: x. From version 0.12, the only valid positional argument will be `data`, and passing other arguments without an explicit keyword will result in an error or misinterpretation.\n",
      "  warnings.warn(\n"
     ]
    },
    {
     "data": {
      "text/plain": [
       "<AxesSubplot:xlabel='Interest_Rate', ylabel='count'>"
      ]
     },
     "execution_count": 46,
     "metadata": {},
     "output_type": "execute_result"
    },
    {
     "data": {
      "image/png": "[encoded data removed]",
      "text/plain": [
       "<Figure size 432x288 with 1 Axes>"
      ]
     },
     "metadata": {
      "needs_background": "light"
     },
     "output_type": "display_data"
    }
   ],
   "source": [
    "# The data is unbalanced\n",
    "sns.countplot(df.Interest_Rate)"
   ]
  },
  {
   "cell_type": "code",
   "execution_count": null,
   "id": "f7991657",
   "metadata": {},
   "outputs": [],
   "source": []
  },
  {
   "cell_type": "code",
   "execution_count": 47,
   "id": "69e7baf8",
   "metadata": {},
   "outputs": [
    {
     "name": "stdout",
     "output_type": "stream",
     "text": [
      "0.7942535101546476 0.5704434936613332 0.6353029961840191\n"
     ]
    }
   ],
   "source": [
    "# These are the class weights for each class\n",
    "class_1 =( len(y) - len(y[y==1]))/len(y)\n",
    "class_2 =( len(y) - len(y[y==2]))/len(y)\n",
    "class_3 =( len(y) - len(y[y==3]))/len(y)\n",
    "print(class_1,class_2,class_3)"
   ]
  },
  {
   "cell_type": "code",
   "execution_count": 48,
   "id": "1821c32a",
   "metadata": {},
   "outputs": [],
   "source": [
    "# its better to give a highter weight than the weight calculated. The idea is that model should know that class 2 is abundent.\n",
    "weight = {1: '0.79', 2: '0.65', 3: '0.68'}"
   ]
  },
  {
   "cell_type": "code",
   "execution_count": 51,
   "id": "75455c38",
   "metadata": {},
   "outputs": [
    {
     "name": "stdout",
     "output_type": "stream",
     "text": [
      "Training until validation scores don't improve for 500 rounds\n",
      "[200]\ttraining's multi_logloss: 0.923826\tvalid_1's multi_logloss: 0.93061\n",
      "[400]\ttraining's multi_logloss: 0.90587\tvalid_1's multi_logloss: 0.924306\n",
      "[600]\ttraining's multi_logloss: 0.893388\tvalid_1's multi_logloss: 0.922706\n",
      "[800]\ttraining's multi_logloss: 0.882652\tvalid_1's multi_logloss: 0.922256\n",
      "[1000]\ttraining's multi_logloss: 0.872623\tvalid_1's multi_logloss: 0.922734\n",
      "[1200]\ttraining's multi_logloss: 0.863275\tvalid_1's multi_logloss: 0.92319\n",
      "Early stopping, best iteration is:\n",
      "[801]\ttraining's multi_logloss: 0.882603\tvalid_1's multi_logloss: 0.922248\n"
     ]
    },
    {
     "data": {
      "text/plain": [
       "LGBMClassifier(class_weight={1: '0.79', 2: '0.65', 3: '0.68'},\n",
       "               colsample_bytree=0.6, learning_rate=0.05, max_depth=5,\n",
       "               min_child_weight=0.02, n_estimators=5000, objective='multiclass',\n",
       "               random_state=7)"
      ]
     },
     "execution_count": 51,
     "metadata": {},
     "output_type": "execute_result"
    }
   ],
   "source": [
    "from lightgbm import LGBMClassifier\n",
    "lgb =LGBMClassifier(boosting_type='gbdt',\n",
    "                       max_depth=5,\n",
    "                       learning_rate=0.05,\n",
    "                       n_estimators=5000,\n",
    "                       class_weight = weight,\n",
    "                       min_child_weight = 0.02,\n",
    "                       colsample_bytree=0.6, \n",
    "                       random_state=7,\n",
    "                       objective='multiclass')\n",
    "\n",
    "lgb.fit(x_train,y_train,\n",
    "          eval_set=[(x_train,y_train),(x_val, y_val.values)],\n",
    "          early_stopping_rounds=500,\n",
    "          verbose=200)"
   ]
  },
  {
   "cell_type": "code",
   "execution_count": 52,
   "id": "4d649376",
   "metadata": {},
   "outputs": [
    {
     "name": "stdout",
     "output_type": "stream",
     "text": [
      "Training until validation scores don't improve for 200 rounds\n",
      "[200]\ttraining's multi_logloss: 0.926119\tvalid_1's multi_logloss: 0.925587\n",
      "[400]\ttraining's multi_logloss: 0.909257\tvalid_1's multi_logloss: 0.917921\n",
      "[600]\ttraining's multi_logloss: 0.897977\tvalid_1's multi_logloss: 0.915516\n",
      "[800]\ttraining's multi_logloss: 0.888239\tvalid_1's multi_logloss: 0.914533\n",
      "[1000]\ttraining's multi_logloss: 0.879305\tvalid_1's multi_logloss: 0.914326\n",
      "[1200]\ttraining's multi_logloss: 0.870991\tvalid_1's multi_logloss: 0.914443\n",
      "Early stopping, best iteration is:\n",
      "[1059]\ttraining's multi_logloss: 0.876811\tvalid_1's multi_logloss: 0.914208\n",
      "1  err_lgm:  0.545828008033595\n",
      "Training until validation scores don't improve for 200 rounds\n",
      "[200]\ttraining's multi_logloss: 0.925457\tvalid_1's multi_logloss: 0.934671\n",
      "[400]\ttraining's multi_logloss: 0.908546\tvalid_1's multi_logloss: 0.927927\n",
      "[600]\ttraining's multi_logloss: 0.896836\tvalid_1's multi_logloss: 0.926142\n",
      "[800]\ttraining's multi_logloss: 0.886957\tvalid_1's multi_logloss: 0.925446\n",
      "[1000]\ttraining's multi_logloss: 0.877858\tvalid_1's multi_logloss: 0.925515\n",
      "Early stopping, best iteration is:\n",
      "[847]\ttraining's multi_logloss: 0.884749\tvalid_1's multi_logloss: 0.925328\n",
      "2  err_lgm:  0.5408983019901406\n",
      "Training until validation scores don't improve for 200 rounds\n",
      "[200]\ttraining's multi_logloss: 0.925657\tvalid_1's multi_logloss: 0.931061\n",
      "[400]\ttraining's multi_logloss: 0.908748\tvalid_1's multi_logloss: 0.925727\n",
      "[600]\ttraining's multi_logloss: 0.897384\tvalid_1's multi_logloss: 0.924795\n",
      "[800]\ttraining's multi_logloss: 0.887645\tvalid_1's multi_logloss: 0.924685\n",
      "Early stopping, best iteration is:\n",
      "[642]\ttraining's multi_logloss: 0.8951\tvalid_1's multi_logloss: 0.924524\n",
      "3  err_lgm:  0.5434544458645244\n",
      "Training until validation scores don't improve for 200 rounds\n",
      "[200]\ttraining's multi_logloss: 0.925858\tvalid_1's multi_logloss: 0.926976\n",
      "[400]\ttraining's multi_logloss: 0.908751\tvalid_1's multi_logloss: 0.920327\n",
      "[600]\ttraining's multi_logloss: 0.897591\tvalid_1's multi_logloss: 0.918533\n",
      "[800]\ttraining's multi_logloss: 0.887752\tvalid_1's multi_logloss: 0.917315\n",
      "[1000]\ttraining's multi_logloss: 0.878758\tvalid_1's multi_logloss: 0.91706\n",
      "[1200]\ttraining's multi_logloss: 0.870324\tvalid_1's multi_logloss: 0.917114\n",
      "Early stopping, best iteration is:\n",
      "[1073]\ttraining's multi_logloss: 0.875678\tvalid_1's multi_logloss: 0.916827\n",
      "4  err_lgm:  0.5411721745481103\n",
      "Training until validation scores don't improve for 200 rounds\n",
      "[200]\ttraining's multi_logloss: 0.924988\tvalid_1's multi_logloss: 0.936505\n",
      "[400]\ttraining's multi_logloss: 0.908158\tvalid_1's multi_logloss: 0.930853\n",
      "[600]\ttraining's multi_logloss: 0.896472\tvalid_1's multi_logloss: 0.929177\n",
      "[800]\ttraining's multi_logloss: 0.886768\tvalid_1's multi_logloss: 0.928979\n",
      "Early stopping, best iteration is:\n",
      "[732]\ttraining's multi_logloss: 0.889786\tvalid_1's multi_logloss: 0.928866\n",
      "5  err_lgm:  0.5336863246302721\n",
      "Training until validation scores don't improve for 200 rounds\n",
      "[200]\ttraining's multi_logloss: 0.925818\tvalid_1's multi_logloss: 0.926169\n",
      "[400]\ttraining's multi_logloss: 0.908805\tvalid_1's multi_logloss: 0.920644\n",
      "[600]\ttraining's multi_logloss: 0.897504\tvalid_1's multi_logloss: 0.919136\n",
      "[800]\ttraining's multi_logloss: 0.887775\tvalid_1's multi_logloss: 0.919143\n",
      "Early stopping, best iteration is:\n",
      "[673]\ttraining's multi_logloss: 0.893943\tvalid_1's multi_logloss: 0.918916\n",
      "6  err_lgm:  0.5442760635384335\n",
      "Training until validation scores don't improve for 200 rounds\n",
      "[200]\ttraining's multi_logloss: 0.925616\tvalid_1's multi_logloss: 0.932933\n",
      "[400]\ttraining's multi_logloss: 0.908384\tvalid_1's multi_logloss: 0.926999\n",
      "[600]\ttraining's multi_logloss: 0.896983\tvalid_1's multi_logloss: 0.925075\n",
      "[800]\ttraining's multi_logloss: 0.887279\tvalid_1's multi_logloss: 0.924465\n",
      "[1000]\ttraining's multi_logloss: 0.878488\tvalid_1's multi_logloss: 0.924295\n",
      "[1200]\ttraining's multi_logloss: 0.870032\tvalid_1's multi_logloss: 0.924253\n",
      "Early stopping, best iteration is:\n",
      "[1077]\ttraining's multi_logloss: 0.875101\tvalid_1's multi_logloss: 0.924099\n",
      "7  err_lgm:  0.5345079423041811\n",
      "Training until validation scores don't improve for 200 rounds\n",
      "[200]\ttraining's multi_logloss: 0.925896\tvalid_1's multi_logloss: 0.926755\n",
      "[400]\ttraining's multi_logloss: 0.908975\tvalid_1's multi_logloss: 0.919828\n",
      "[600]\ttraining's multi_logloss: 0.897317\tvalid_1's multi_logloss: 0.917714\n",
      "[800]\ttraining's multi_logloss: 0.887576\tvalid_1's multi_logloss: 0.917383\n",
      "Early stopping, best iteration is:\n",
      "[750]\ttraining's multi_logloss: 0.889852\tvalid_1's multi_logloss: 0.917282\n",
      "8  err_lgm:  0.543728318422494\n",
      "Training until validation scores don't improve for 200 rounds\n",
      "[200]\ttraining's multi_logloss: 0.92606\tvalid_1's multi_logloss: 0.925876\n",
      "[400]\ttraining's multi_logloss: 0.909205\tvalid_1's multi_logloss: 0.91835\n",
      "[600]\ttraining's multi_logloss: 0.897775\tvalid_1's multi_logloss: 0.915785\n",
      "[800]\ttraining's multi_logloss: 0.88793\tvalid_1's multi_logloss: 0.915131\n",
      "[1000]\ttraining's multi_logloss: 0.879019\tvalid_1's multi_logloss: 0.915194\n",
      "Early stopping, best iteration is:\n",
      "[819]\ttraining's multi_logloss: 0.887042\tvalid_1's multi_logloss: 0.915048\n",
      "9  err_lgm:  0.5444586452437465\n",
      "Training until validation scores don't improve for 200 rounds\n",
      "[200]\ttraining's multi_logloss: 0.925774\tvalid_1's multi_logloss: 0.927182\n",
      "[400]\ttraining's multi_logloss: 0.908772\tvalid_1's multi_logloss: 0.91963\n",
      "[600]\ttraining's multi_logloss: 0.897321\tvalid_1's multi_logloss: 0.917318\n",
      "[800]\ttraining's multi_logloss: 0.887674\tvalid_1's multi_logloss: 0.916343\n",
      "[1000]\ttraining's multi_logloss: 0.878607\tvalid_1's multi_logloss: 0.916233\n",
      "Early stopping, best iteration is:\n",
      "[903]\ttraining's multi_logloss: 0.883013\tvalid_1's multi_logloss: 0.916086\n",
      "10  err_lgm:  0.5455541354756254\n",
      "Training until validation scores don't improve for 200 rounds\n",
      "[200]\ttraining's multi_logloss: 0.925233\tvalid_1's multi_logloss: 0.932486\n",
      "[400]\ttraining's multi_logloss: 0.90838\tvalid_1's multi_logloss: 0.926778\n",
      "[600]\ttraining's multi_logloss: 0.896885\tvalid_1's multi_logloss: 0.925039\n",
      "[800]\ttraining's multi_logloss: 0.887078\tvalid_1's multi_logloss: 0.924572\n",
      "[1000]\ttraining's multi_logloss: 0.878051\tvalid_1's multi_logloss: 0.924739\n",
      "Early stopping, best iteration is:\n",
      "[840]\ttraining's multi_logloss: 0.885219\tvalid_1's multi_logloss: 0.924408\n",
      "11  err_lgm:  0.5348731057148074\n",
      "Training until validation scores don't improve for 200 rounds\n",
      "[200]\ttraining's multi_logloss: 0.925717\tvalid_1's multi_logloss: 0.928736\n",
      "[400]\ttraining's multi_logloss: 0.908749\tvalid_1's multi_logloss: 0.922239\n",
      "[600]\ttraining's multi_logloss: 0.897323\tvalid_1's multi_logloss: 0.919956\n",
      "[800]\ttraining's multi_logloss: 0.887318\tvalid_1's multi_logloss: 0.918921\n",
      "[1000]\ttraining's multi_logloss: 0.878227\tvalid_1's multi_logloss: 0.918668\n",
      "[1200]\ttraining's multi_logloss: 0.869944\tvalid_1's multi_logloss: 0.918723\n",
      "Early stopping, best iteration is:\n",
      "[1140]\ttraining's multi_logloss: 0.872334\tvalid_1's multi_logloss: 0.918499\n",
      "12  err_lgm:  0.5452802629176556\n",
      "Training until validation scores don't improve for 200 rounds\n",
      "[200]\ttraining's multi_logloss: 0.925553\tvalid_1's multi_logloss: 0.93165\n",
      "[400]\ttraining's multi_logloss: 0.908528\tvalid_1's multi_logloss: 0.925379\n",
      "[600]\ttraining's multi_logloss: 0.897144\tvalid_1's multi_logloss: 0.923772\n",
      "[800]\ttraining's multi_logloss: 0.887189\tvalid_1's multi_logloss: 0.923146\n",
      "[1000]\ttraining's multi_logloss: 0.878187\tvalid_1's multi_logloss: 0.923101\n",
      "Early stopping, best iteration is:\n",
      "[853]\ttraining's multi_logloss: 0.884696\tvalid_1's multi_logloss: 0.922982\n",
      "13  err_lgm:  0.5407157202848275\n",
      "Training until validation scores don't improve for 200 rounds\n",
      "[200]\ttraining's multi_logloss: 0.926003\tvalid_1's multi_logloss: 0.928489\n",
      "[400]\ttraining's multi_logloss: 0.909107\tvalid_1's multi_logloss: 0.922339\n",
      "[600]\ttraining's multi_logloss: 0.897482\tvalid_1's multi_logloss: 0.920333\n",
      "[800]\ttraining's multi_logloss: 0.887824\tvalid_1's multi_logloss: 0.91957\n",
      "[1000]\ttraining's multi_logloss: 0.878913\tvalid_1's multi_logloss: 0.919574\n",
      "[1200]\ttraining's multi_logloss: 0.87062\tvalid_1's multi_logloss: 0.919477\n",
      "Early stopping, best iteration is:\n",
      "[1066]\ttraining's multi_logloss: 0.876139\tvalid_1's multi_logloss: 0.919302\n",
      "14  err_lgm:  0.5402592660215446\n"
     ]
    },
    {
     "name": "stdout",
     "output_type": "stream",
     "text": [
      "Training until validation scores don't improve for 200 rounds\n",
      "[200]\ttraining's multi_logloss: 0.925759\tvalid_1's multi_logloss: 0.929227\n",
      "[400]\ttraining's multi_logloss: 0.908718\tvalid_1's multi_logloss: 0.923118\n",
      "[600]\ttraining's multi_logloss: 0.89697\tvalid_1's multi_logloss: 0.921656\n",
      "[800]\ttraining's multi_logloss: 0.887144\tvalid_1's multi_logloss: 0.921614\n",
      "Early stopping, best iteration is:\n",
      "[664]\ttraining's multi_logloss: 0.893704\tvalid_1's multi_logloss: 0.921546\n",
      "15  err_lgm:  0.5447822514379622\n"
     ]
    }
   ],
   "source": [
    "# kfold\n",
    "from sklearn.model_selection import StratifiedKFold\n",
    "\n",
    "err = []\n",
    "y_pred_tot_lgm = []\n",
    "\n",
    "from sklearn.model_selection import StratifiedKFold\n",
    "\n",
    "fold = StratifiedKFold(n_splits=15, shuffle=True, random_state=42)\n",
    "i = 1\n",
    "for train_index, test_index in fold.split(X, y):\n",
    "    x_train, x_val = X.iloc[train_index], X.iloc[test_index]\n",
    "    y_train, y_val = y.iloc[train_index], y.iloc[test_index]\n",
    "    m = LGBMClassifier(boosting_type='gbdt',\n",
    "                       max_depth=5,\n",
    "                       learning_rate=0.05,\n",
    "                       n_estimators=5000,\n",
    "                       class_weight = weight,\n",
    "                       min_child_weight = 0.02,\n",
    "                       colsample_bytree=0.6, \n",
    "                       random_state=7,\n",
    "                       objective='multiclass')\n",
    "    m.fit(x_train, y_train,\n",
    "          eval_set=[(x_train,y_train),(x_val, y_val)],\n",
    "          early_stopping_rounds=200,\n",
    "          verbose=200)\n",
    "    pred_y = m.predict(x_val)\n",
    "    print(i, \" err_lgm: \", accuracy_score(y_val, pred_y))\n",
    "    err.append(accuracy_score(y_val, pred_y))\n",
    "    pred_test = m.predict(testing)\n",
    "    i = i + 1\n",
    "    y_pred_tot_lgm.append(pred_test)"
   ]
  },
  {
   "cell_type": "code",
   "execution_count": 53,
   "id": "d753310a",
   "metadata": {},
   "outputs": [
    {
     "name": "stdout",
     "output_type": "stream",
     "text": [
      "0.5415649977618614\n"
     ]
    }
   ],
   "source": [
    "print(np.mean(err,0))"
   ]
  },
  {
   "cell_type": "code",
   "execution_count": 54,
   "id": "83dcf8a1",
   "metadata": {},
   "outputs": [
    {
     "data": {
      "text/plain": [
       "[0.545828008033595,\n",
       " 0.5408983019901406,\n",
       " 0.5434544458645244,\n",
       " 0.5411721745481103,\n",
       " 0.5336863246302721,\n",
       " 0.5442760635384335,\n",
       " 0.5345079423041811,\n",
       " 0.543728318422494,\n",
       " 0.5444586452437465,\n",
       " 0.5455541354756254,\n",
       " 0.5348731057148074,\n",
       " 0.5452802629176556,\n",
       " 0.5407157202848275,\n",
       " 0.5402592660215446,\n",
       " 0.5447822514379622]"
      ]
     },
     "execution_count": 54,
     "metadata": {},
     "output_type": "execute_result"
    }
   ],
   "source": [
    "err"
   ]
  },
  {
   "cell_type": "code",
   "execution_count": 56,
   "id": "384a3f2e",
   "metadata": {},
   "outputs": [
    {
     "data": {
      "text/plain": [
       "0.5447822514379622"
      ]
     },
     "execution_count": 56,
     "metadata": {},
     "output_type": "execute_result"
    }
   ],
   "source": [
    "err[14]"
   ]
  },
  {
   "cell_type": "code",
   "execution_count": 57,
   "id": "cb9c2ab1",
   "metadata": {},
   "outputs": [],
   "source": [
    "submission = pd.DataFrame()\n",
    "submission['Loan_ID'] = test['Loan_ID']\n",
    "submission['Interest_Rate'] = y_pred_tot_lgm[14]\n",
    "submission.to_csv('normal_kfolds_01.csv', index=False, header=True)"
   ]
  }
 ],
 "metadata": {
  "kernelspec": {
   "display_name": "Python 3 (ipykernel)",
   "language": "python",
   "name": "python3"
  },
  "language_info": {
   "codemirror_mode": {
    "name": "ipython",
    "version": 3
   },
   "file_extension": ".py",
   "mimetype": "text/x-python",
   "name": "python",
   "nbconvert_exporter": "python",
   "pygments_lexer": "ipython3",
   "version": "3.9.12"
  }
 },
 "nbformat": 4,
 "nbformat_minor": 5
}
